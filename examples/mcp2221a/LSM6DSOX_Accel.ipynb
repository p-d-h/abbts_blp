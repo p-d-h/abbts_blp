{
 "cells": [
  {
   "cell_type": "markdown",
   "metadata": {},
   "source": [
    "# Adafruit Blinka and LSM6DSOX\n",
    "<img src=\"https://cdn-learn.adafruit.com/guides/cropped_images/000/002/823/medium640/main_crop.jpg?1576648691\" alt=\"LSM6DSOX\" height= \"500\" width=\"500\"/>\n"
   ]
  },
  {
   "cell_type": "code",
   "execution_count": 1,
   "metadata": {
    "ExecuteTime": {
     "end_time": "2023-06-13T19:17:31.940022800Z",
     "start_time": "2023-06-13T19:17:31.920505700Z"
    }
   },
   "outputs": [],
   "source": [
    " # Python Software Package Installation\n",
    "import sys\n",
    "# !{sys.executable} -m pip install adafruit-circuitpython-lsm6ds ipympl"
   ]
  },
  {
   "cell_type": "markdown",
   "metadata": {},
   "source": [
    "**Verify this cell returns acceleration data before proceeding**"
   ]
  },
  {
   "cell_type": "code",
   "execution_count": 3,
   "metadata": {
    "ExecuteTime": {
     "end_time": "2023-06-13T19:17:33.108009400Z",
     "start_time": "2023-06-13T19:17:32.011889900Z"
    }
   },
   "outputs": [],
   "source": [
    "# Set an Environment Variable so Adafruit Blinka knows we're using the MCP2221\n",
    "import os\n",
    "os.environ[\"BLINKA_MCP2221\"] = \"1\"\n",
    "import time\n",
    "\n",
    "# Import CircuitPython Libraries\n",
    "import board\n",
    "import busio\n",
    "import adafruit_lsm6ds\n",
    "from adafruit_lsm6ds.lsm6dsox import LSM6DSOX\n",
    "\n",
    "i2c = busio.I2C(board.SCL, board.SDA)\n",
    "sox = LSM6DSOX(i2c)"
   ]
  },
  {
   "cell_type": "code",
   "execution_count": 9,
   "metadata": {},
   "outputs": [
    {
     "name": "stdout",
     "output_type": "stream",
     "text": [
      "9999 Acceleration: X:-0.27, Y: -0.59, Z: 9.96 m/s^22\r"
     ]
    }
   ],
   "source": [
    "for i in range(10000):\n",
    "    print(i, \"Acceleration: X:%.2f, Y: %.2f, Z: %.2f m/s^2\"%(sox.acceleration), end='\\r')\n",
    "    time.sleep(0.001)"
   ]
  },
  {
   "cell_type": "code",
   "execution_count": null,
   "metadata": {},
   "outputs": [],
   "source": []
  },
  {
   "cell_type": "code",
   "execution_count": null,
   "metadata": {},
   "outputs": [],
   "source": []
  },
  {
   "cell_type": "code",
   "execution_count": null,
   "metadata": {},
   "outputs": [],
   "source": []
  },
  {
   "cell_type": "code",
   "execution_count": null,
   "metadata": {},
   "outputs": [],
   "source": []
  },
  {
   "cell_type": "code",
   "execution_count": null,
   "metadata": {},
   "outputs": [],
   "source": []
  },
  {
   "cell_type": "code",
   "execution_count": null,
   "metadata": {},
   "outputs": [],
   "source": []
  },
  {
   "cell_type": "code",
   "execution_count": null,
   "metadata": {},
   "outputs": [],
   "source": []
  },
  {
   "cell_type": "code",
   "execution_count": null,
   "metadata": {},
   "outputs": [],
   "source": []
  },
  {
   "cell_type": "code",
   "execution_count": null,
   "metadata": {
    "ExecuteTime": {
     "end_time": "2023-06-13T19:17:33.646916300Z",
     "start_time": "2023-06-13T19:17:33.116816500Z"
    }
   },
   "outputs": [],
   "source": [
    "%matplotlib notebook\n",
    "import matplotlib.pyplot as plt\n",
    "from matplotlib.animation import FuncAnimation\n",
    "import datetime\n",
    "import matplotlib.dates as mdates\n",
    "from collections import deque\n",
    "\n",
    "# How many sensor samples we want to store\n",
    "HISTORY_SIZE = 25\n",
    "\n",
    "# Pause re-sampling the sensor and drawing for INTERVAL seconds\n",
    "INTERVAL = 0.01\n",
    "\n",
    "# Deque for X-Axis (time)\n",
    "x_vals = deque(maxlen=HISTORY_SIZE)\n",
    "\n",
    "# Deque for Y-Axis (accelerometer readings)\n",
    "accel_x = deque(maxlen=HISTORY_SIZE)\n",
    "accel_y = deque(maxlen=HISTORY_SIZE)\n",
    "accel_z = deque(maxlen=HISTORY_SIZE)\n",
    "\n",
    "# Create 3 side-by-side subplots\n",
    "fig, (ax1, ax2, ax3) = plt.subplots(1,3)\n",
    "\n",
    "# Automatically adjust subplot parameters for nicer padding between plots\n",
    "plt.tight_layout()\n",
    "\n",
    "def animate(i):\n",
    "    # Poll the LSM303AGR\n",
    "    accel_data = sox.acceleration\n",
    "    # Add the X/Y/Z values to the accel arrays\n",
    "    accel_x.append(accel_data[0])\n",
    "    accel_y.append(accel_data[1])\n",
    "    accel_z.append(accel_data[2])\n",
    "    \n",
    "    # Grab the datetime, auto-range based on length of accel_x array\n",
    "    x_vals = [datetime.datetime.now() + datetime.timedelta(seconds=i) for i in range(len(accel_x))]\n",
    "    \n",
    "    # Clear all axis\n",
    "    ax1.cla()\n",
    "    ax2.cla()\n",
    "    ax3.cla()\n",
    "\n",
    "    # Set grid titles\n",
    "    ax1.set_title('X', fontsize=10)\n",
    "    ax2.set_title('Y', fontsize=10)\n",
    "    ax3.set_title('Z', fontsize=10)\n",
    "   \n",
    "    # Enable subplot grid lines\n",
    "    ax1.grid(True, linewidth=0.5, linestyle=':')\n",
    "    ax2.grid(True, linewidth=0.5, linestyle=':')   \n",
    "    ax3.grid(True, linewidth=0.5, linestyle=':')\n",
    "\n",
    "    # Rotate and align x-axis tick labels so they look better\n",
    "    fig.autofmt_xdate()\n",
    "\n",
    "    # Display the sub-plots\n",
    "    ax1.plot(x_vals, accel_x, color='r')\n",
    "    ax2.plot(x_vals, accel_y, color='g')\n",
    "    ax3.plot(x_vals, accel_z, color='b')\n",
    "    \n",
    "    # Pause the plot for INTERVAL seconds \n",
    "    plt.pause(INTERVAL)\n",
    "\n",
    "# Update graph every 125ms\n",
    "ani = FuncAnimation(fig, animate)"
   ]
  },
  {
   "cell_type": "code",
   "execution_count": null,
   "metadata": {
    "ExecuteTime": {
     "end_time": "2023-06-13T19:17:11.331928200Z",
     "start_time": "2023-06-13T19:17:11.326681800Z"
    },
    "collapsed": false,
    "jupyter": {
     "outputs_hidden": false
    }
   },
   "outputs": [],
   "source": []
  },
  {
   "cell_type": "code",
   "execution_count": null,
   "metadata": {
    "collapsed": false,
    "jupyter": {
     "outputs_hidden": false
    }
   },
   "outputs": [],
   "source": []
  }
 ],
 "metadata": {
  "kernelspec": {
   "display_name": "Python 3 (ipykernel)",
   "language": "python",
   "name": "python3"
  },
  "language_info": {
   "codemirror_mode": {
    "name": "ipython",
    "version": 3
   },
   "file_extension": ".py",
   "mimetype": "text/x-python",
   "name": "python",
   "nbconvert_exporter": "python",
   "pygments_lexer": "ipython3",
   "version": "3.11.4"
  }
 },
 "nbformat": 4,
 "nbformat_minor": 4
}
