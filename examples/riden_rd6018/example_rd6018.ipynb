{
 "cells": [
  {
   "cell_type": "markdown",
   "source": [
    "# Beispiel Netzgerät RIDEN RD6018"
   ],
   "metadata": {
    "collapsed": false
   }
  },
  {
   "cell_type": "code",
   "execution_count": 21,
   "outputs": [
    {
     "name": "stdout",
     "output_type": "stream",
     "text": [
      "The autoreload extension is already loaded. To reload it, use:\n",
      "  %reload_ext autoreload\n"
     ]
    }
   ],
   "source": [
    "from riden import Riden\n",
    "from time import sleep\n",
    "\n",
    "%load_ext autoreload\n",
    "%autoreload 2"
   ],
   "metadata": {
    "collapsed": false,
    "ExecuteTime": {
     "end_time": "2023-05-23T11:47:29.062154300Z",
     "start_time": "2023-05-23T11:47:29.033315Z"
    }
   }
  },
  {
   "cell_type": "code",
   "execution_count": 32,
   "outputs": [
    {
     "name": "stdout",
     "output_type": "stream",
     "text": [
      "Serial<id=0x1ccee8e97b0, open=True>(port='COM3', baudrate=115200, bytesize=8, parity='N', stopbits=1, timeout=None, xonxoff=False, rtscts=False, dsrdtr=False)\n",
      "r.v_out=12.48V\n",
      "r.i_out=5.75A\n",
      "r.p_out=71.91W\n",
      "r.ah=0.908Ah\n",
      "r.wh=11.449Wh\n",
      "r.int_c=39°C\n",
      "r.v_bat=12.48V\n",
      "r.is_bat_mode()=True\n"
     ]
    }
   ],
   "source": [
    "r = Riden(port='COM3')\n",
    "\n",
    "# r.set_light(3)\n",
    "r.set_v_set(12.5)\n",
    "r.set_i_set(10.0)\n",
    "r.set_output(True)\n",
    "r.update()\n",
    "\n",
    "sleep(2)\n",
    "r.update()\n",
    "print(f'{r.v_out=}V')\n",
    "print(f'{r.i_out=}A')\n",
    "print(f'{r.p_out=}W')\n",
    "print(f'{r.ah=}Ah')\n",
    "print(f'{r.wh=}Wh')\n",
    "print(f'{r.int_c=}°C')\n",
    "print(f'{r.v_bat=}V')\n",
    "print(f'{r.is_bat_mode()=}')\n",
    "\n",
    "r.serial.close()"
   ],
   "metadata": {
    "collapsed": false,
    "ExecuteTime": {
     "end_time": "2023-05-23T11:49:59.791065100Z",
     "start_time": "2023-05-23T11:49:57.217539500Z"
    }
   }
  },
  {
   "cell_type": "code",
   "execution_count": null,
   "outputs": [],
   "source": [],
   "metadata": {
    "collapsed": false
   }
  }
 ],
 "metadata": {
  "kernelspec": {
   "display_name": "Python 3",
   "language": "python",
   "name": "python3"
  },
  "language_info": {
   "codemirror_mode": {
    "name": "ipython",
    "version": 2
   },
   "file_extension": ".py",
   "mimetype": "text/x-python",
   "name": "python",
   "nbconvert_exporter": "python",
   "pygments_lexer": "ipython2",
   "version": "2.7.6"
  }
 },
 "nbformat": 4,
 "nbformat_minor": 0
}
