{
 "cells": [
  {
   "cell_type": "code",
   "execution_count": 2,
   "id": "1c95e29b",
   "metadata": {
    "tags": []
   },
   "outputs": [],
   "source": [
    "import numpy as np\n",
    "import control\n",
    "from bokeh.plotting import figure\n",
    "from bokeh.io import show, output_notebook"
   ]
  },
  {
   "cell_type": "code",
   "execution_count": 3,
   "id": "a7f1d824",
   "metadata": {
    "tags": []
   },
   "outputs": [],
   "source": [
    "# Plot tooltips\n",
    "TOOLTIPS = [\n",
    "    (\"index\", \"$index\"),\n",
    "    (\"(t, val)\", \"($x, $y)\"),\n",
    "    ]"
   ]
  },
  {
   "cell_type": "markdown",
   "id": "12cd1e9f",
   "metadata": {},
   "source": [
    "# Step 1: DC-DC single leg with current control\n",
    "![dcdc_single_leg_current_control](dcdc_single_leg_current_control.png)"
   ]
  },
  {
   "cell_type": "code",
   "execution_count": 4,
   "id": "867f5a3d",
   "metadata": {
    "jupyter": {
     "source_hidden": true
    },
    "tags": []
   },
   "outputs": [],
   "source": [
    "# Electrical parameters\n",
    "L = 6e-3\n",
    "Rload = 30\n",
    "E = 600\n",
    "fsw = 16e3"
   ]
  },
  {
   "cell_type": "markdown",
   "id": "e5d5021a",
   "metadata": {},
   "source": [
    "The controller is designed here with a compensation of the output voltage.\n",
    "\n",
    "![current_control_with_voltage_compensation](current_control_with_voltage_compensation.png)\n",
    "\n",
    "Closed loop transfer function : $$ TF_{CL}(p) = \\dfrac{1 + \\frac{K_p}{K_i} p}{1 + \\frac{K_p}{K_i} p + \\frac{L}{E ~ K_i} p^2 } $$\n",
    "\n",
    "Which leads to:\n",
    "$$ K_i = \\dfrac{L \\omega_n^2}{E}  ~~~~ \\text{et} ~~~~  K_p = \\dfrac{2 \\xi K_i}{\\omega_n} $$\n",
    "\n",
    "\n",
    "\n"
   ]
  },
  {
   "cell_type": "markdown",
   "id": "1caff96d",
   "metadata": {},
   "source": [
    "### Step 1.a) compute $K_p$ and $K_i$ coefficients with $\\xi = 0.707$ \n",
    "Parameter $\\omega_n$ is chosen to get the same dynamic in closed loop as in open-loop with a nominal load (as this dynamic is high enough for this application) and the damping factor is limited to 0.707."
   ]
  },
  {
   "cell_type": "code",
   "execution_count": 5,
   "id": "e7abde7e",
   "metadata": {
    "jupyter": {
     "source_hidden": true
    },
    "tags": []
   },
   "outputs": [
    {
     "name": "stdout",
     "output_type": "stream",
     "text": [
      "0.0707\n",
      "250.0\n"
     ]
    }
   ],
   "source": [
    "wn = Rload / L   # same dynamic as in open-loop\n",
    "xi = 0.707\n",
    "Ki = wn ** 2 * L / E\n",
    "Kp = 2 * xi * Ki / wn\n",
    "print(Kp)\n",
    "print(Ki)"
   ]
  },
  {
   "cell_type": "markdown",
   "id": "b9ae1b23",
   "metadata": {},
   "source": [
    "Le's check the closed loop transfer function with these coefficients:"
   ]
  },
  {
   "cell_type": "code",
   "execution_count": 6,
   "id": "0855abde",
   "metadata": {
    "jupyter": {
     "source_hidden": true
    },
    "tags": []
   },
   "outputs": [
    {
     "ename": "AttributeError",
     "evalue": "unexpected attribute 'plot_width' to figure, similar attributes are outer_width, width or min_width",
     "output_type": "error",
     "traceback": [
      "\u001b[1;31m---------------------------------------------------------------------------\u001b[0m",
      "\u001b[1;31mAttributeError\u001b[0m                            Traceback (most recent call last)",
      "Cell \u001b[1;32mIn[6], line 6\u001b[0m\n\u001b[0;32m      4\u001b[0m (simutime, output) \u001b[38;5;241m=\u001b[39m control\u001b[38;5;241m.\u001b[39mstep_response(tf, simutime, X0\u001b[38;5;241m=\u001b[39m\u001b[38;5;241m0\u001b[39m)\n\u001b[0;32m      5\u001b[0m \u001b[38;5;66;03m# Plot step response\u001b[39;00m\n\u001b[1;32m----> 6\u001b[0m step_response \u001b[38;5;241m=\u001b[39m \u001b[43mfigure\u001b[49m\u001b[43m(\u001b[49m\u001b[43mplot_width\u001b[49m\u001b[43m \u001b[49m\u001b[38;5;241;43m=\u001b[39;49m\u001b[43m \u001b[49m\u001b[38;5;241;43m800\u001b[39;49m\u001b[43m,\u001b[49m\u001b[43m \u001b[49m\u001b[43mplot_height\u001b[49m\u001b[43m \u001b[49m\u001b[38;5;241;43m=\u001b[39;49m\u001b[43m \u001b[49m\u001b[38;5;241;43m300\u001b[39;49m\u001b[43m,\u001b[49m\u001b[43m \u001b[49m\n\u001b[0;32m      7\u001b[0m \u001b[43m                       \u001b[49m\u001b[43mtitle\u001b[49m\u001b[43m \u001b[49m\u001b[38;5;241;43m=\u001b[39;49m\u001b[43m \u001b[49m\u001b[38;5;124;43m'\u001b[39;49m\u001b[38;5;124;43mStep response\u001b[39;49m\u001b[38;5;124;43m'\u001b[39;49m\u001b[43m,\u001b[49m\n\u001b[0;32m      8\u001b[0m \u001b[43m                       \u001b[49m\u001b[43mx_axis_label\u001b[49m\u001b[43m \u001b[49m\u001b[38;5;241;43m=\u001b[39;49m\u001b[43m \u001b[49m\u001b[38;5;124;43m'\u001b[39;49m\u001b[38;5;124;43mtime (s)\u001b[39;49m\u001b[38;5;124;43m'\u001b[39;49m\u001b[43m,\u001b[49m\u001b[43m \u001b[49m\u001b[43my_axis_label\u001b[49m\u001b[43m \u001b[49m\u001b[38;5;241;43m=\u001b[39;49m\u001b[43m \u001b[49m\u001b[38;5;124;43m'\u001b[39;49m\u001b[38;5;124;43mOutput (p.u.)\u001b[39;49m\u001b[38;5;124;43m'\u001b[39;49m\u001b[43m,\u001b[49m\n\u001b[0;32m      9\u001b[0m \u001b[43m                       \u001b[49m\u001b[43mactive_drag\u001b[49m\u001b[38;5;241;43m=\u001b[39;49m\u001b[38;5;124;43m'\u001b[39;49m\u001b[38;5;124;43mbox_zoom\u001b[39;49m\u001b[38;5;124;43m'\u001b[39;49m\u001b[43m,\u001b[49m\n\u001b[0;32m     10\u001b[0m \u001b[43m                       \u001b[49m\u001b[43mtooltips\u001b[49m\u001b[43m \u001b[49m\u001b[38;5;241;43m=\u001b[39;49m\u001b[43m \u001b[49m\u001b[43mTOOLTIPS\u001b[49m\u001b[43m)\u001b[49m\n\u001b[0;32m     11\u001b[0m step_response\u001b[38;5;241m.\u001b[39mline(simutime, output, color\u001b[38;5;241m=\u001b[39m(\u001b[38;5;241m0\u001b[39m, \u001b[38;5;241m50\u001b[39m, \u001b[38;5;241m0\u001b[39m))\n\u001b[0;32m     12\u001b[0m output_notebook()\n",
      "File \u001b[1;32mD:\\Python\\abbts_blp\\venv\\lib\\site-packages\\bokeh\\plotting\\_figure.py:190\u001b[0m, in \u001b[0;36mfigure.__init__\u001b[1;34m(self, *arg, **kw)\u001b[0m\n\u001b[0;32m    188\u001b[0m \u001b[38;5;28;01mfor\u001b[39;00m name \u001b[38;5;129;01min\u001b[39;00m kw\u001b[38;5;241m.\u001b[39mkeys():\n\u001b[0;32m    189\u001b[0m     \u001b[38;5;28;01mif\u001b[39;00m name \u001b[38;5;129;01mnot\u001b[39;00m \u001b[38;5;129;01min\u001b[39;00m names:\n\u001b[1;32m--> 190\u001b[0m         \u001b[38;5;28;43mself\u001b[39;49m\u001b[38;5;241;43m.\u001b[39;49m\u001b[43m_raise_attribute_error_with_matches\u001b[49m\u001b[43m(\u001b[49m\u001b[43mname\u001b[49m\u001b[43m,\u001b[49m\u001b[43m \u001b[49m\u001b[43mnames\u001b[49m\u001b[43m \u001b[49m\u001b[38;5;241;43m|\u001b[39;49m\u001b[43m \u001b[49m\u001b[43mopts\u001b[49m\u001b[38;5;241;43m.\u001b[39;49m\u001b[43mproperties\u001b[49m\u001b[43m(\u001b[49m\u001b[43m)\u001b[49m\u001b[43m)\u001b[49m\n\u001b[0;32m    192\u001b[0m \u001b[38;5;28msuper\u001b[39m()\u001b[38;5;241m.\u001b[39m\u001b[38;5;21m__init__\u001b[39m(\u001b[38;5;241m*\u001b[39marg, \u001b[38;5;241m*\u001b[39m\u001b[38;5;241m*\u001b[39mkw)\n\u001b[0;32m    194\u001b[0m \u001b[38;5;28mself\u001b[39m\u001b[38;5;241m.\u001b[39mx_range \u001b[38;5;241m=\u001b[39m get_range(opts\u001b[38;5;241m.\u001b[39mx_range)\n",
      "File \u001b[1;32mD:\\Python\\abbts_blp\\venv\\lib\\site-packages\\bokeh\\core\\has_props.py:368\u001b[0m, in \u001b[0;36mHasProps._raise_attribute_error_with_matches\u001b[1;34m(self, name, properties)\u001b[0m\n\u001b[0;32m    365\u001b[0m \u001b[38;5;28;01mif\u001b[39;00m \u001b[38;5;129;01mnot\u001b[39;00m matches:\n\u001b[0;32m    366\u001b[0m     matches, text \u001b[38;5;241m=\u001b[39m \u001b[38;5;28msorted\u001b[39m(properties), \u001b[38;5;124m\"\u001b[39m\u001b[38;5;124mpossible\u001b[39m\u001b[38;5;124m\"\u001b[39m\n\u001b[1;32m--> 368\u001b[0m \u001b[38;5;28;01mraise\u001b[39;00m \u001b[38;5;167;01mAttributeError\u001b[39;00m(\u001b[38;5;124mf\u001b[39m\u001b[38;5;124m\"\u001b[39m\u001b[38;5;124munexpected attribute \u001b[39m\u001b[38;5;132;01m{\u001b[39;00mname\u001b[38;5;132;01m!r}\u001b[39;00m\u001b[38;5;124m to \u001b[39m\u001b[38;5;132;01m{\u001b[39;00m\u001b[38;5;28mself\u001b[39m\u001b[38;5;241m.\u001b[39m\u001b[38;5;18m__class__\u001b[39m\u001b[38;5;241m.\u001b[39m\u001b[38;5;18m__name__\u001b[39m\u001b[38;5;132;01m}\u001b[39;00m\u001b[38;5;124m, \u001b[39m\u001b[38;5;132;01m{\u001b[39;00mtext\u001b[38;5;132;01m}\u001b[39;00m\u001b[38;5;124m attributes are \u001b[39m\u001b[38;5;132;01m{\u001b[39;00mnice_join(matches)\u001b[38;5;132;01m}\u001b[39;00m\u001b[38;5;124m\"\u001b[39m)\n",
      "\u001b[1;31mAttributeError\u001b[0m: unexpected attribute 'plot_width' to figure, similar attributes are outer_width, width or min_width"
     ]
    }
   ],
   "source": [
    "# Simulation of the transfer function with a step response\n",
    "tf = control.tf(np.array([Kp / Ki, 1]), np.array([1 / wn**2, 2 * xi / wn, 1]))\n",
    "simutime = np.linspace(0, 10 / wn, 1000)\n",
    "(simutime, output) = control.step_response(tf, simutime, X0=0)\n",
    "# Plot step response\n",
    "step_response = figure(plot_width = 800, plot_height = 300, \n",
    "                       title = 'Step response',\n",
    "                       x_axis_label = 'time (s)', y_axis_label = 'Output (p.u.)',\n",
    "                       active_drag='box_zoom',\n",
    "                       tooltips = TOOLTIPS)\n",
    "step_response.line(simutime, output, color=(0, 50, 0))\n",
    "output_notebook()\n",
    "show(step_response)"
   ]
  },
  {
   "cell_type": "markdown",
   "id": "2ad637cb",
   "metadata": {},
   "source": [
    "The overshoot of the step response can not be acceptable as it is around 20%. This is due to zero of the numerator of the transfer function which is probably too close to the real part of a denominator pole. Let's check this with the *pzmap* function of the control toolbox:"
   ]
  },
  {
   "cell_type": "code",
   "execution_count": 7,
   "id": "b6cd27e8",
   "metadata": {
    "tags": []
   },
   "outputs": [
    {
     "data": {
      "text/plain": [
       "(array([-3535.+3536.06773125j, -3535.-3536.06773125j]),\n",
       " array([-3536.0678925+0.j]))"
      ]
     },
     "execution_count": 7,
     "metadata": {},
     "output_type": "execute_result"
    },
    {
     "data": {
      "image/png": "[encoded data removed]",
      "text/plain": [
       "<Figure size 640x480 with 1 Axes>"
      ]
     },
     "metadata": {},
     "output_type": "display_data"
    }
   ],
   "source": [
    "control.pzmap(tf, plot=True, grid=False, title='Pole Zero Map')"
   ]
  },
  {
   "cell_type": "markdown",
   "id": "a533f200",
   "metadata": {},
   "source": [
    "It confirms that thes $K_p$ and $K_i$ values lead to a zero in the transfer function which is too close to the poles. Different solutions can be considered to solve this issue. For example:\n",
    "* increase the value of $\\xi$.\n",
    "* compensate the zero,\n",
    "\n",
    "Let's try the first solution and perform a sweep of the damping coefficient $\\xi$ to evaluate its influence on the overshoot and on the pole / zero map."
   ]
  },
  {
   "cell_type": "markdown",
   "id": "f90ba551",
   "metadata": {},
   "source": [
    "### Step 1.b) Sweep of the damping coefficient $\\xi$\n",
    "\n",
    "#### With the *step_response* function of the control package."
   ]
  },
  {
   "cell_type": "code",
   "execution_count": 8,
   "id": "471d1957",
   "metadata": {
    "tags": []
   },
   "outputs": [
    {
     "ename": "AttributeError",
     "evalue": "unexpected attribute 'plot_width' to figure, similar attributes are outer_width, width or min_width",
     "output_type": "error",
     "traceback": [
      "\u001b[1;31m---------------------------------------------------------------------------\u001b[0m",
      "\u001b[1;31mAttributeError\u001b[0m                            Traceback (most recent call last)",
      "Cell \u001b[1;32mIn[8], line 2\u001b[0m\n\u001b[0;32m      1\u001b[0m \u001b[38;5;66;03m# Create figure\u001b[39;00m\n\u001b[1;32m----> 2\u001b[0m step_response_sweep \u001b[38;5;241m=\u001b[39m \u001b[43mfigure\u001b[49m\u001b[43m(\u001b[49m\u001b[43mplot_width\u001b[49m\u001b[43m \u001b[49m\u001b[38;5;241;43m=\u001b[39;49m\u001b[43m \u001b[49m\u001b[38;5;241;43m800\u001b[39;49m\u001b[43m,\u001b[49m\u001b[43m \u001b[49m\u001b[43mplot_height\u001b[49m\u001b[43m \u001b[49m\u001b[38;5;241;43m=\u001b[39;49m\u001b[43m \u001b[49m\u001b[38;5;241;43m300\u001b[39;49m\u001b[43m,\u001b[49m\u001b[43m \u001b[49m\n\u001b[0;32m      3\u001b[0m \u001b[43m                             \u001b[49m\u001b[43mtitle\u001b[49m\u001b[43m \u001b[49m\u001b[38;5;241;43m=\u001b[39;49m\u001b[43m \u001b[49m\u001b[38;5;124;43m'\u001b[39;49m\u001b[38;5;124;43mStep response\u001b[39;49m\u001b[38;5;124;43m'\u001b[39;49m\u001b[43m,\u001b[49m\n\u001b[0;32m      4\u001b[0m \u001b[43m                             \u001b[49m\u001b[43mx_axis_label\u001b[49m\u001b[43m \u001b[49m\u001b[38;5;241;43m=\u001b[39;49m\u001b[43m \u001b[49m\u001b[38;5;124;43m'\u001b[39;49m\u001b[38;5;124;43mtime (s)\u001b[39;49m\u001b[38;5;124;43m'\u001b[39;49m\u001b[43m,\u001b[49m\u001b[43m \u001b[49m\u001b[43my_axis_label\u001b[49m\u001b[43m \u001b[49m\u001b[38;5;241;43m=\u001b[39;49m\u001b[43m \u001b[49m\u001b[38;5;124;43m'\u001b[39;49m\u001b[38;5;124;43mOutput (p.u.)\u001b[39;49m\u001b[38;5;124;43m'\u001b[39;49m\u001b[43m,\u001b[49m\n\u001b[0;32m      5\u001b[0m \u001b[43m                             \u001b[49m\u001b[43mactive_drag\u001b[49m\u001b[38;5;241;43m=\u001b[39;49m\u001b[38;5;124;43m'\u001b[39;49m\u001b[38;5;124;43mbox_zoom\u001b[39;49m\u001b[38;5;124;43m'\u001b[39;49m\u001b[43m,\u001b[49m\n\u001b[0;32m      6\u001b[0m \u001b[43m                             \u001b[49m\u001b[43mtooltips\u001b[49m\u001b[43m \u001b[49m\u001b[38;5;241;43m=\u001b[39;49m\u001b[43m \u001b[49m\u001b[43mTOOLTIPS\u001b[49m\u001b[43m)\u001b[49m\n\u001b[0;32m      7\u001b[0m green_color \u001b[38;5;241m=\u001b[39m \u001b[38;5;241m25\u001b[39m\n\u001b[0;32m      9\u001b[0m \u001b[38;5;66;03m# Step responses with xi parameter sweep\u001b[39;00m\n",
      "File \u001b[1;32mD:\\Python\\abbts_blp\\venv\\lib\\site-packages\\bokeh\\plotting\\_figure.py:190\u001b[0m, in \u001b[0;36mfigure.__init__\u001b[1;34m(self, *arg, **kw)\u001b[0m\n\u001b[0;32m    188\u001b[0m \u001b[38;5;28;01mfor\u001b[39;00m name \u001b[38;5;129;01min\u001b[39;00m kw\u001b[38;5;241m.\u001b[39mkeys():\n\u001b[0;32m    189\u001b[0m     \u001b[38;5;28;01mif\u001b[39;00m name \u001b[38;5;129;01mnot\u001b[39;00m \u001b[38;5;129;01min\u001b[39;00m names:\n\u001b[1;32m--> 190\u001b[0m         \u001b[38;5;28;43mself\u001b[39;49m\u001b[38;5;241;43m.\u001b[39;49m\u001b[43m_raise_attribute_error_with_matches\u001b[49m\u001b[43m(\u001b[49m\u001b[43mname\u001b[49m\u001b[43m,\u001b[49m\u001b[43m \u001b[49m\u001b[43mnames\u001b[49m\u001b[43m \u001b[49m\u001b[38;5;241;43m|\u001b[39;49m\u001b[43m \u001b[49m\u001b[43mopts\u001b[49m\u001b[38;5;241;43m.\u001b[39;49m\u001b[43mproperties\u001b[49m\u001b[43m(\u001b[49m\u001b[43m)\u001b[49m\u001b[43m)\u001b[49m\n\u001b[0;32m    192\u001b[0m \u001b[38;5;28msuper\u001b[39m()\u001b[38;5;241m.\u001b[39m\u001b[38;5;21m__init__\u001b[39m(\u001b[38;5;241m*\u001b[39marg, \u001b[38;5;241m*\u001b[39m\u001b[38;5;241m*\u001b[39mkw)\n\u001b[0;32m    194\u001b[0m \u001b[38;5;28mself\u001b[39m\u001b[38;5;241m.\u001b[39mx_range \u001b[38;5;241m=\u001b[39m get_range(opts\u001b[38;5;241m.\u001b[39mx_range)\n",
      "File \u001b[1;32mD:\\Python\\abbts_blp\\venv\\lib\\site-packages\\bokeh\\core\\has_props.py:368\u001b[0m, in \u001b[0;36mHasProps._raise_attribute_error_with_matches\u001b[1;34m(self, name, properties)\u001b[0m\n\u001b[0;32m    365\u001b[0m \u001b[38;5;28;01mif\u001b[39;00m \u001b[38;5;129;01mnot\u001b[39;00m matches:\n\u001b[0;32m    366\u001b[0m     matches, text \u001b[38;5;241m=\u001b[39m \u001b[38;5;28msorted\u001b[39m(properties), \u001b[38;5;124m\"\u001b[39m\u001b[38;5;124mpossible\u001b[39m\u001b[38;5;124m\"\u001b[39m\n\u001b[1;32m--> 368\u001b[0m \u001b[38;5;28;01mraise\u001b[39;00m \u001b[38;5;167;01mAttributeError\u001b[39;00m(\u001b[38;5;124mf\u001b[39m\u001b[38;5;124m\"\u001b[39m\u001b[38;5;124munexpected attribute \u001b[39m\u001b[38;5;132;01m{\u001b[39;00mname\u001b[38;5;132;01m!r}\u001b[39;00m\u001b[38;5;124m to \u001b[39m\u001b[38;5;132;01m{\u001b[39;00m\u001b[38;5;28mself\u001b[39m\u001b[38;5;241m.\u001b[39m\u001b[38;5;18m__class__\u001b[39m\u001b[38;5;241m.\u001b[39m\u001b[38;5;18m__name__\u001b[39m\u001b[38;5;132;01m}\u001b[39;00m\u001b[38;5;124m, \u001b[39m\u001b[38;5;132;01m{\u001b[39;00mtext\u001b[38;5;132;01m}\u001b[39;00m\u001b[38;5;124m attributes are \u001b[39m\u001b[38;5;132;01m{\u001b[39;00mnice_join(matches)\u001b[38;5;132;01m}\u001b[39;00m\u001b[38;5;124m\"\u001b[39m)\n",
      "\u001b[1;31mAttributeError\u001b[0m: unexpected attribute 'plot_width' to figure, similar attributes are outer_width, width or min_width"
     ]
    }
   ],
   "source": [
    "# Create figure\n",
    "step_response_sweep = figure(plot_width = 800, plot_height = 300, \n",
    "                             title = 'Step response',\n",
    "                             x_axis_label = 'time (s)', y_axis_label = 'Output (p.u.)',\n",
    "                             active_drag='box_zoom',\n",
    "                             tooltips = TOOLTIPS)\n",
    "green_color = 25\n",
    "\n",
    "# Step responses with xi parameter sweep\n",
    "for xi in [0.7, 0.9, 1.1, 1.4]:\n",
    "    Ki = wn ** 2 * L / E\n",
    "    Kp = 2 * xi * Ki / wn\n",
    "    tf = control.tf(np.array([Kp / Ki, 1]), np.array([1 / wn**2, 2 * xi / wn, 1]))\n",
    "    (simutime, output) = control.step_response(tf, simutime, X0=0)\n",
    "    step_response_sweep.line(simutime, output, color=(0, green_color, 0), legend_label='xi = ' + str(xi))\n",
    "    green_color += 75\n",
    "show(step_response_sweep)"
   ]
  },
  {
   "cell_type": "code",
   "execution_count": 9,
   "id": "886ff1db",
   "metadata": {
    "tags": []
   },
   "outputs": [
    {
     "data": {
      "text/plain": [
       "(array([-3535.+3536.06773125j, -3535.-3536.06773125j]),\n",
       " array([-3536.0678925+0.j]))"
      ]
     },
     "execution_count": 9,
     "metadata": {},
     "output_type": "execute_result"
    },
    {
     "data": {
      "image/png": "[encoded data removed]",
      "text/plain": [
       "<Figure size 640x480 with 1 Axes>"
      ]
     },
     "metadata": {},
     "output_type": "display_data"
    }
   ],
   "source": [
    "# plot pzmap for xi = 1.4\n",
    "control.pzmap(tf, plot=True, grid=False, title='Pole Zero Map xi = ' + str(xi))"
   ]
  },
  {
   "cell_type": "markdown",
   "id": "af5943a0",
   "metadata": {},
   "source": [
    "The $K_p$ and $K_i$ values obtained for a damping coefficient $\\xi = 1.4$ seem to provide a good compromise between overshoot and speed.\n",
    "Let's check this with some simba simulations for the different values of $\\xi$.\n",
    "\n",
    "#### With *Simba* simulations"
   ]
  },
  {
   "cell_type": "code",
   "execution_count": 10,
   "id": "d54b984e",
   "metadata": {
    "tags": []
   },
   "outputs": [
    {
     "ename": "AttributeError",
     "evalue": "unexpected attribute 'plot_width' to figure, similar attributes are outer_width, width or min_width",
     "output_type": "error",
     "traceback": [
      "\u001b[1;31m---------------------------------------------------------------------------\u001b[0m",
      "\u001b[1;31mAttributeError\u001b[0m                            Traceback (most recent call last)",
      "Cell \u001b[1;32mIn[10], line 11\u001b[0m\n\u001b[0;32m      8\u001b[0m PI \u001b[38;5;241m=\u001b[39m direct_current_continuous_controller\u001b[38;5;241m.\u001b[39mCircuit\u001b[38;5;241m.\u001b[39mGetDeviceByName(\u001b[38;5;124m'\u001b[39m\u001b[38;5;124mPI\u001b[39m\u001b[38;5;124m'\u001b[39m)\n\u001b[0;32m     10\u001b[0m \u001b[38;5;66;03m# Figure\u001b[39;00m\n\u001b[1;32m---> 11\u001b[0m simba_sweep \u001b[38;5;241m=\u001b[39m \u001b[43mfigure\u001b[49m\u001b[43m(\u001b[49m\u001b[43mplot_width\u001b[49m\u001b[43m \u001b[49m\u001b[38;5;241;43m=\u001b[39;49m\u001b[43m \u001b[49m\u001b[38;5;241;43m800\u001b[39;49m\u001b[43m,\u001b[49m\u001b[43m \u001b[49m\u001b[43mplot_height\u001b[49m\u001b[43m \u001b[49m\u001b[38;5;241;43m=\u001b[39;49m\u001b[43m \u001b[49m\u001b[38;5;241;43m500\u001b[39;49m\u001b[43m,\u001b[49m\u001b[43m \u001b[49m\n\u001b[0;32m     12\u001b[0m \u001b[43m                             \u001b[49m\u001b[43mtitle\u001b[49m\u001b[43m \u001b[49m\u001b[38;5;241;43m=\u001b[39;49m\u001b[43m \u001b[49m\u001b[38;5;124;43m'\u001b[39;49m\u001b[38;5;124;43mSimba simulation\u001b[39;49m\u001b[38;5;124;43m'\u001b[39;49m\u001b[43m,\u001b[49m\n\u001b[0;32m     13\u001b[0m \u001b[43m                             \u001b[49m\u001b[43mx_axis_label\u001b[49m\u001b[43m \u001b[49m\u001b[38;5;241;43m=\u001b[39;49m\u001b[43m \u001b[49m\u001b[38;5;124;43m'\u001b[39;49m\u001b[38;5;124;43mtime (s)\u001b[39;49m\u001b[38;5;124;43m'\u001b[39;49m\u001b[43m,\u001b[49m\u001b[43m \u001b[49m\u001b[43my_axis_label\u001b[49m\u001b[43m \u001b[49m\u001b[38;5;241;43m=\u001b[39;49m\u001b[43m \u001b[49m\u001b[38;5;124;43m'\u001b[39;49m\u001b[38;5;124;43mCurrent (A)\u001b[39;49m\u001b[38;5;124;43m'\u001b[39;49m\u001b[43m,\u001b[49m\n\u001b[0;32m     14\u001b[0m \u001b[43m                             \u001b[49m\u001b[43mactive_drag\u001b[49m\u001b[38;5;241;43m=\u001b[39;49m\u001b[38;5;124;43m'\u001b[39;49m\u001b[38;5;124;43mbox_zoom\u001b[39;49m\u001b[38;5;124;43m'\u001b[39;49m\u001b[43m,\u001b[49m\n\u001b[0;32m     15\u001b[0m \u001b[43m                             \u001b[49m\u001b[43mtooltips\u001b[49m\u001b[43m \u001b[49m\u001b[38;5;241;43m=\u001b[39;49m\u001b[43m \u001b[49m\u001b[43mTOOLTIPS\u001b[49m\u001b[43m)\u001b[49m\n\u001b[0;32m     16\u001b[0m green_color \u001b[38;5;241m=\u001b[39m \u001b[38;5;241m25\u001b[39m                            \n\u001b[0;32m     18\u001b[0m \u001b[38;5;66;03m# Simba simulations and plot with xi parameter sweep\u001b[39;00m\n",
      "File \u001b[1;32mD:\\Python\\abbts_blp\\venv\\lib\\site-packages\\bokeh\\plotting\\_figure.py:190\u001b[0m, in \u001b[0;36mfigure.__init__\u001b[1;34m(self, *arg, **kw)\u001b[0m\n\u001b[0;32m    188\u001b[0m \u001b[38;5;28;01mfor\u001b[39;00m name \u001b[38;5;129;01min\u001b[39;00m kw\u001b[38;5;241m.\u001b[39mkeys():\n\u001b[0;32m    189\u001b[0m     \u001b[38;5;28;01mif\u001b[39;00m name \u001b[38;5;129;01mnot\u001b[39;00m \u001b[38;5;129;01min\u001b[39;00m names:\n\u001b[1;32m--> 190\u001b[0m         \u001b[38;5;28;43mself\u001b[39;49m\u001b[38;5;241;43m.\u001b[39;49m\u001b[43m_raise_attribute_error_with_matches\u001b[49m\u001b[43m(\u001b[49m\u001b[43mname\u001b[49m\u001b[43m,\u001b[49m\u001b[43m \u001b[49m\u001b[43mnames\u001b[49m\u001b[43m \u001b[49m\u001b[38;5;241;43m|\u001b[39;49m\u001b[43m \u001b[49m\u001b[43mopts\u001b[49m\u001b[38;5;241;43m.\u001b[39;49m\u001b[43mproperties\u001b[49m\u001b[43m(\u001b[49m\u001b[43m)\u001b[49m\u001b[43m)\u001b[49m\n\u001b[0;32m    192\u001b[0m \u001b[38;5;28msuper\u001b[39m()\u001b[38;5;241m.\u001b[39m\u001b[38;5;21m__init__\u001b[39m(\u001b[38;5;241m*\u001b[39marg, \u001b[38;5;241m*\u001b[39m\u001b[38;5;241m*\u001b[39mkw)\n\u001b[0;32m    194\u001b[0m \u001b[38;5;28mself\u001b[39m\u001b[38;5;241m.\u001b[39mx_range \u001b[38;5;241m=\u001b[39m get_range(opts\u001b[38;5;241m.\u001b[39mx_range)\n",
      "File \u001b[1;32mD:\\Python\\abbts_blp\\venv\\lib\\site-packages\\bokeh\\core\\has_props.py:368\u001b[0m, in \u001b[0;36mHasProps._raise_attribute_error_with_matches\u001b[1;34m(self, name, properties)\u001b[0m\n\u001b[0;32m    365\u001b[0m \u001b[38;5;28;01mif\u001b[39;00m \u001b[38;5;129;01mnot\u001b[39;00m matches:\n\u001b[0;32m    366\u001b[0m     matches, text \u001b[38;5;241m=\u001b[39m \u001b[38;5;28msorted\u001b[39m(properties), \u001b[38;5;124m\"\u001b[39m\u001b[38;5;124mpossible\u001b[39m\u001b[38;5;124m\"\u001b[39m\n\u001b[1;32m--> 368\u001b[0m \u001b[38;5;28;01mraise\u001b[39;00m \u001b[38;5;167;01mAttributeError\u001b[39;00m(\u001b[38;5;124mf\u001b[39m\u001b[38;5;124m\"\u001b[39m\u001b[38;5;124munexpected attribute \u001b[39m\u001b[38;5;132;01m{\u001b[39;00mname\u001b[38;5;132;01m!r}\u001b[39;00m\u001b[38;5;124m to \u001b[39m\u001b[38;5;132;01m{\u001b[39;00m\u001b[38;5;28mself\u001b[39m\u001b[38;5;241m.\u001b[39m\u001b[38;5;18m__class__\u001b[39m\u001b[38;5;241m.\u001b[39m\u001b[38;5;18m__name__\u001b[39m\u001b[38;5;132;01m}\u001b[39;00m\u001b[38;5;124m, \u001b[39m\u001b[38;5;132;01m{\u001b[39;00mtext\u001b[38;5;132;01m}\u001b[39;00m\u001b[38;5;124m attributes are \u001b[39m\u001b[38;5;132;01m{\u001b[39;00mnice_join(matches)\u001b[38;5;132;01m}\u001b[39;00m\u001b[38;5;124m\"\u001b[39m)\n",
      "\u001b[1;31mAttributeError\u001b[0m: unexpected attribute 'plot_width' to figure, similar attributes are outer_width, width or min_width"
     ]
    }
   ],
   "source": [
    "import os\n",
    "from aesim.simba import DesignExamples, ProjectRepository\n",
    "\n",
    "# Get project design and PI bloc\n",
    "file_path = os.path.join(os.getcwd(), \"direct_current_power_flow_control.simba\")\n",
    "project = ProjectRepository(file_path)\n",
    "direct_current_continuous_controller = project.GetDesignByName('direct_current_continuous_controller')\n",
    "PI = direct_current_continuous_controller.Circuit.GetDeviceByName('PI')\n",
    "\n",
    "# Figure\n",
    "simba_sweep = figure(plot_width = 800, plot_height = 500, \n",
    "                             title = 'Simba simulation',\n",
    "                             x_axis_label = 'time (s)', y_axis_label = 'Current (A)',\n",
    "                             active_drag='box_zoom',\n",
    "                             tooltips = TOOLTIPS)\n",
    "green_color = 25                            \n",
    "\n",
    "# Simba simulations and plot with xi parameter sweep\n",
    "for xi in [0.7, 0.9, 1.1, 1.4]:\n",
    "    Ki = wn ** 2 * L / E\n",
    "    Kp = 2 * xi * Ki / wn\n",
    "    PI.Kp = Kp\n",
    "    PI.Ki = Ki\n",
    "    sweep_job = direct_current_continuous_controller.TransientAnalysis.NewJob()\n",
    "    status = sweep_job.Run()\n",
    "    simba_time_continuous = sweep_job.TimePoints\n",
    "    iL_continuous = sweep_job.GetSignalByName('L1 - Instantaneous Current').DataPoints\n",
    "    simba_sweep.line(simba_time_continuous, iL_continuous, color=(0, green_color, 0), legend_label='xi = ' + str(xi))\n",
    "    green_color += 75\n",
    "show(simba_sweep)"
   ]
  },
  {
   "cell_type": "markdown",
   "id": "9ed8e56b",
   "metadata": {},
   "source": [
    "### Step 1.c) Discrete Z-controller : continuous to discrete transformation using Tustin method\n",
    "The continuous to discrete transformation using Tustin method gives: $ p = \\dfrac{2}{T_s} \\dfrac{z-1}{z+1} $,\n",
    "\n",
    "which leads to $ C(z) = \\dfrac{1}{1-z^{-1}} \\left(K_p + \\frac{1}{2} K_i T_s + (- K_p + \\frac{1}{2} K_i T_s) ~ z^{-1}\\right) $\n",
    "\n",
    "and then to the recurrence equation:\n",
    "$$ \\alpha(k) = \\alpha(k-1) + \\left(K_p + \\frac{1}{2} K_i T_s \\right) \\epsilon(k) + \\left(-K_p + \\frac{1}{2} K_i T_s \\right) \\epsilon(k-1) $$\n",
    "\n",
    "And finally: $ a_0 = -K_p + \\frac{1}{2} K_i T_s $ and $ a_1 = K_p + \\frac{1}{2} K_i T_s $"
   ]
  },
  {
   "cell_type": "code",
   "execution_count": null,
   "id": "cf613b3a",
   "metadata": {
    "jupyter": {
     "source_hidden": true
    },
    "tags": []
   },
   "outputs": [],
   "source": [
    "Ts = 1 / fsw\n",
    "a0 = -Kp + Ts * Ki / 2\n",
    "a1 = Kp + Ts * Ki / 2\n",
    "print('a0 = ', a0)\n",
    "print('a1 = ', a1)"
   ]
  },
  {
   "cell_type": "markdown",
   "id": "1b4ce48d",
   "metadata": {},
   "source": [
    "### Step 1.d) Simba Simulation: continuous and discrete controller"
   ]
  },
  {
   "cell_type": "code",
   "execution_count": null,
   "id": "f83f8007",
   "metadata": {
    "jupyter": {
     "source_hidden": true
    },
    "tags": []
   },
   "outputs": [],
   "source": [
    "\n",
    "# Load design with discrete controller\n",
    "direct_current_discrete_controller = project.GetDesignByName('direct_current_discrete_controller')\n",
    "a0_element = direct_current_discrete_controller.Circuit.GetDeviceByName('a0')\n",
    "a1_element = direct_current_discrete_controller.Circuit.GetDeviceByName('a1')\n",
    "a0_element.Value = a0\n",
    "a1_element.Value = a1\n",
    "discrete_job = direct_current_discrete_controller.TransientAnalysis.NewJob()\n",
    "status = discrete_job.Run()\n",
    "\n",
    "# Get results\n",
    "simba_time_continuous =  sweep_job.TimePoints\n",
    "iL_continuous =  sweep_job.GetSignalByName('L1 - Instantaneous Current').DataPoints\n",
    "duty_cycle_continuous =  sweep_job.GetSignalByName('duty_cycle - Out').DataPoints\n",
    "\n",
    "simba_time_discrete = discrete_job.TimePoints\n",
    "iL_discrete = discrete_job.GetSignalByName('L1 - Instantaneous Current').DataPoints\n",
    "duty_cycle_discrete = discrete_job.GetSignalByName('duty_cycle - Out').DataPoints\n",
    "\n",
    "# plot\n",
    "TOOLTIPS = [\n",
    "    (\"index\", \"$index\"),\n",
    "    (\"(t, val)\", \"($x, $y)\"),\n",
    "    ]\n",
    "\n",
    "# figure\n",
    "current_control_fig = figure(plot_width = 800, plot_height = 300, \n",
    "                             title = 'Inductor current',\n",
    "                             x_axis_label = 'time (s)', y_axis_label = 'Current (A)',\n",
    "                             active_drag='box_zoom',\n",
    "                             tooltips = TOOLTIPS)\n",
    "current_control_fig.line(simba_time_continuous, iL_continuous, color='limegreen', legend_label='continuous')\n",
    "current_control_fig.line(simba_time_discrete, iL_discrete, color='darkred', legend_label='discrete')\n",
    "\n",
    "output_notebook()\n",
    "show(current_control_fig)"
   ]
  },
  {
   "cell_type": "markdown",
   "id": "20e82573",
   "metadata": {},
   "source": [
    "# Step 2: Direct Current Power Flow Control\n",
    "![direct_current_power_flow_control](direct_current_power_flow_control.png)\n",
    "\n"
   ]
  },
  {
   "cell_type": "code",
   "execution_count": null,
   "id": "45b7b6dc",
   "metadata": {
    "tags": []
   },
   "outputs": [],
   "source": [
    "# Simulate\n",
    "direct_current_power_flow_control = project.GetDesignByName('direct_current_power_flow_control')\n",
    "a0_element = direct_current_power_flow_control.Circuit.GetDeviceByName('a0')\n",
    "a1_element = direct_current_power_flow_control.Circuit.GetDeviceByName('a1')\n",
    "a0_element.Value = a0\n",
    "a1_element.Value = a1\n",
    "power_flow_control_job = direct_current_power_flow_control.TransientAnalysis.NewJob()\n",
    "status = power_flow_control_job.Run()\n",
    "\n",
    "# Results\n",
    "simba_time_power_flow_control = power_flow_control_job.TimePoints\n",
    "power_ref = power_flow_control_job.GetSignalByName('PowerRef - Out').DataPoints\n",
    "power_average = power_flow_control_job.GetSignalByName('PowerEstimated - Out').DataPoints\n",
    "\n",
    "# figure\n",
    "p3 = figure(plot_width = 800, plot_height = 300, \n",
    "           title = 'Power',\n",
    "           x_axis_label = 'time (s)', y_axis_label = 'Power (W)',\n",
    "           active_drag='box_zoom',\n",
    "           tooltips = TOOLTIPS)\n",
    "p3.line(simba_time_power_flow_control, power_ref, color='limegreen', legend_label='reference')\n",
    "p3.line(simba_time_power_flow_control, power_average, color='darkred', legend_label='estimated')\n",
    "show(p3)"
   ]
  },
  {
   "cell_type": "code",
   "execution_count": null,
   "id": "7e65bebf",
   "metadata": {
    "jupyter": {
     "source_hidden": true
    }
   },
   "outputs": [],
   "source": []
  }
 ],
 "metadata": {
  "kernelspec": {
   "display_name": "Python 3 (ipykernel)",
   "language": "python",
   "name": "python3"
  },
  "language_info": {
   "codemirror_mode": {
    "name": "ipython",
    "version": 3
   },
   "file_extension": ".py",
   "mimetype": "text/x-python",
   "name": "python",
   "nbconvert_exporter": "python",
   "pygments_lexer": "ipython3",
   "version": "3.10.9"
  }
 },
 "nbformat": 4,
 "nbformat_minor": 5
}
