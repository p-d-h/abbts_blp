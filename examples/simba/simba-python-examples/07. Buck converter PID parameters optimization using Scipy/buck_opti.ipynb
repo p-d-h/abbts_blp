{
 "cells": [
  {
   "cell_type": "code",
   "execution_count": 1,
   "metadata": {
    "tags": []
   },
   "outputs": [],
   "source": [
    "from aesim.simba import  ProjectRepository\n",
    "import matplotlib.pyplot as plt\n",
    "import numpy as np\n",
    "import os\n",
    "import time as t\n",
    "from scipy.optimize import Bounds, NonlinearConstraint, differential_evolution, minimize\n",
    "from bokeh.plotting import figure\n",
    "from bokeh.io import show, output_notebook"
   ]
  },
  {
   "cell_type": "markdown",
   "metadata": {},
   "source": [
    "#  Using scipy to optimize PID parameters of a simple Buck Converter with Voltage Regulation\n",
    "![Buck-Converter](buck.png)"
   ]
  },
  {
   "cell_type": "markdown",
   "metadata": {},
   "source": [
    "Optimization objectives are:\n",
    "\n",
    "* The output voltage should be equal to the reference voltage (error = 0, non-linear constraint)\n",
    "* No overshoot (overshoot = 0, non-linear constraint)\n",
    "* Minimize risetime\n"
   ]
  },
  {
   "cell_type": "code",
   "execution_count": 2,
   "metadata": {
    "tags": []
   },
   "outputs": [],
   "source": [
    "# Open design and get the pid device\n",
    "file_path = os.path.join(os.getcwd(), \"Buck.simba\")\n",
    "project = ProjectRepository(file_path)\n",
    "buck = project.GetDesignByName('DC/DC - Buck Converter')\n",
    "pid = buck.Circuit.GetDeviceByName('PID1')"
   ]
  },
  {
   "cell_type": "code",
   "execution_count": 3,
   "metadata": {
    "tags": []
   },
   "outputs": [],
   "source": [
    "# simulation_history holds the parameters (Ki, Kp and Kd) and the metrics (risetime, error and overshoot) previously calculated\n",
    "simulation_history = {}\n",
    "def create_key(X):\n",
    "    return str(X[0]) + str(X[1]) + str(X[2])\n",
    "\n",
    "#  Rise time is defined as the time to reach 95% of the final value\n",
    "def rise_time(v,t):\n",
    "    v_flip = np.flip(v)\n",
    "    t_flip = np.flip(t)\n",
    "    v_last = v_flip[0]\n",
    "    v_first = v_flip[-1]\n",
    "    v_95 = 0.95*(v_last-v_first)\n",
    "    index = np.where(v_flip < v_95)[0][0]\n",
    "    return t_flip[index]\n",
    "\n",
    "# Run the simulation and update the simulation_history dictionary\n",
    "def evaluate(X):\n",
    "    # Apply parameters\n",
    "    pid.Ki= X[0]\n",
    "    pid.Kp = X[1]\n",
    "    pid.Kd= X[2]\n",
    "\n",
    "    # Run simulation\n",
    "    job = buck.TransientAnalysis.NewJob()\n",
    "    job.Run()\n",
    "    \n",
    "    # Calculate metrics and update simulation_history\n",
    "    t =  np.array(job.TimePoints)\n",
    "    Vout = np.array(job.GetSignalByName('R1 - Instantaneous Voltage').DataPoints)\n",
    "    risetime = rise_time(Vout,t) \n",
    "    v_ref = 4\n",
    "    v_last = Vout[-1]\n",
    "    error = abs(v_ref-v_last)/v_ref\n",
    "    overshoot = max(Vout)/v_last-1\n",
    "    key = create_key(X)\n",
    "    simulation_history[key] = [risetime, error, overshoot]"
   ]
  },
  {
   "cell_type": "code",
   "execution_count": 4,
   "metadata": {
    "tags": []
   },
   "outputs": [],
   "source": [
    "def objective3D(X):\n",
    "   # calculate and return the rise time (objective to minimize)\n",
    "    key = create_key(X)\n",
    "    if not key in simulation_history.keys():\n",
    "        evaluate(X)\n",
    "    return simulation_history.get(key)[0]\n",
    "\n",
    "def constraintError3D(X):\n",
    "   # Calculate and return the output voltage error (non linear constraint)\n",
    "    key = create_key(X)\n",
    "    if not key in simulation_history.keys():\n",
    "        evaluate(X)\n",
    "    return simulation_history.get(key)[1]\n",
    "\n",
    "def constraintOverShoot3D(X):\n",
    "    # Calculate and return the overshoot (non linear constraint)\n",
    "    key = create_key(X)\n",
    "    if not key in simulation_history.keys():\n",
    "        evaluate(X)\n",
    "    return simulation_history.get(key)[2]"
   ]
  },
  {
   "cell_type": "code",
   "execution_count": 5,
   "metadata": {
    "tags": []
   },
   "outputs": [
    {
     "name": "stdout",
     "output_type": "stream",
     "text": [
      "Elapsed time:  166.078125\n",
      "number of simulation:  465\n"
     ]
    }
   ],
   "source": [
    "# Define nonlinear constraints (no error and no overshoot)\n",
    "nonlinear_constraint_err = NonlinearConstraint(constraintError3D, 0.0, 10**(-2))\n",
    "nonlinear_constraint_OverShoot = NonlinearConstraint(constraintOverShoot3D, 0.0, 10**(-2))\n",
    "\n",
    "# Run optimization algorithm\n",
    "bounds = Bounds([0, 0.0, 0.0], [100,1, 1E-6],True) # 0 < Ki < 100; 0 < Kp < 1; 0 < Kd < 1E-6\n",
    "tic = t.process_time()\n",
    "res = differential_evolution(objective3D,\n",
    "                             bounds,\n",
    "                             strategy = 'rand1exp', # works well with a small population and preserve the population diversity\n",
    "                             maxiter = 30,\n",
    "                             tol = 0.01,\n",
    "                             popsize = 5, \n",
    "                             init = 'latinhypercube',\n",
    "                             polish = False,\n",
    "                             workers = 1, # -1 to use all ressources available\n",
    "                             constraints = [nonlinear_constraint_err, nonlinear_constraint_OverShoot]\n",
    "               )\n",
    "toc = t.process_time()\n",
    "print('Elapsed time: ', toc - tic)\n",
    "print ('number of simulation: ', len(simulation_history))\n"
   ]
  },
  {
   "cell_type": "code",
   "execution_count": 6,
   "metadata": {
    "tags": []
   },
   "outputs": [
    {
     "name": "stdout",
     "output_type": "stream",
     "text": [
      "Optimization Results:\n",
      "  Ki:  83.67804422138532\n",
      "  Kp:  0.0038001633722790085\n",
      "  Kd:  8.230652604918686e-07\n",
      "  risetime:  0.002146749999999996\n",
      "  error:  0.0006537864765766566\n",
      "  overshoot:  0.004192419037791328\n"
     ]
    }
   ],
   "source": [
    "# Print paremeters and results\n",
    "optimized_parameters = res['x'].tolist()\n",
    "key = create_key(optimized_parameters)\n",
    "best_metrics = simulation_history.get(key)\n",
    "print('Optimization Results:')\n",
    "print('  Ki: ',optimized_parameters[0])\n",
    "print('  Kp: ',optimized_parameters[1])\n",
    "print('  Kd: ',optimized_parameters[2])\n",
    "print('  risetime: ',best_metrics[0])\n",
    "print('  error: ',best_metrics[1])\n",
    "print('  overshoot: ',best_metrics[2])"
   ]
  },
  {
   "cell_type": "code",
   "execution_count": 7,
   "metadata": {
    "tags": []
   },
   "outputs": [
    {
     "ename": "AttributeError",
     "evalue": "unexpected attribute 'plot_width' to figure, similar attributes are outer_width, width or min_width",
     "output_type": "error",
     "traceback": [
      "\u001b[1;31m---------------------------------------------------------------------------\u001b[0m",
      "\u001b[1;31mAttributeError\u001b[0m                            Traceback (most recent call last)",
      "Cell \u001b[1;32mIn[7], line 8\u001b[0m\n\u001b[0;32m      2\u001b[0m TOOLTIPS \u001b[38;5;241m=\u001b[39m [\n\u001b[0;32m      3\u001b[0m     (\u001b[38;5;124m\"\u001b[39m\u001b[38;5;124mindex\u001b[39m\u001b[38;5;124m\"\u001b[39m, \u001b[38;5;124m\"\u001b[39m\u001b[38;5;124m$index\u001b[39m\u001b[38;5;124m\"\u001b[39m),\n\u001b[0;32m      4\u001b[0m     (\u001b[38;5;124m\"\u001b[39m\u001b[38;5;124m(t, val)\u001b[39m\u001b[38;5;124m\"\u001b[39m, \u001b[38;5;124m\"\u001b[39m\u001b[38;5;124m($x, $y)\u001b[39m\u001b[38;5;124m\"\u001b[39m),\n\u001b[0;32m      5\u001b[0m     ]\n\u001b[0;32m      7\u001b[0m \u001b[38;5;66;03m# figure 1\u001b[39;00m\n\u001b[1;32m----> 8\u001b[0m p1 \u001b[38;5;241m=\u001b[39m \u001b[43mfigure\u001b[49m\u001b[43m(\u001b[49m\u001b[43mplot_width\u001b[49m\u001b[43m \u001b[49m\u001b[38;5;241;43m=\u001b[39;49m\u001b[43m \u001b[49m\u001b[38;5;241;43m800\u001b[39;49m\u001b[43m,\u001b[49m\u001b[43m \u001b[49m\u001b[43mplot_height\u001b[49m\u001b[43m \u001b[49m\u001b[38;5;241;43m=\u001b[39;49m\u001b[43m \u001b[49m\u001b[38;5;241;43m300\u001b[39;49m\u001b[43m,\u001b[49m\u001b[43m \u001b[49m\n\u001b[0;32m      9\u001b[0m \u001b[43m           \u001b[49m\u001b[43mtitle\u001b[49m\u001b[43m \u001b[49m\u001b[38;5;241;43m=\u001b[39;49m\u001b[43m \u001b[49m\u001b[38;5;124;43m'\u001b[39;49m\u001b[38;5;124;43mBuck Converter - Output voltage\u001b[39;49m\u001b[38;5;124;43m'\u001b[39;49m\u001b[43m,\u001b[49m\n\u001b[0;32m     10\u001b[0m \u001b[43m           \u001b[49m\u001b[43mx_axis_label\u001b[49m\u001b[43m \u001b[49m\u001b[38;5;241;43m=\u001b[39;49m\u001b[43m \u001b[49m\u001b[38;5;124;43m'\u001b[39;49m\u001b[38;5;124;43mtime (s)\u001b[39;49m\u001b[38;5;124;43m'\u001b[39;49m\u001b[43m,\u001b[49m\u001b[43m \u001b[49m\u001b[43my_axis_label\u001b[49m\u001b[43m \u001b[49m\u001b[38;5;241;43m=\u001b[39;49m\u001b[43m \u001b[49m\u001b[38;5;124;43m'\u001b[39;49m\u001b[38;5;124;43mVoltage (V)\u001b[39;49m\u001b[38;5;124;43m'\u001b[39;49m\u001b[43m,\u001b[49m\n\u001b[0;32m     11\u001b[0m \u001b[43m           \u001b[49m\u001b[43mactive_drag\u001b[49m\u001b[38;5;241;43m=\u001b[39;49m\u001b[38;5;124;43m'\u001b[39;49m\u001b[38;5;124;43mbox_zoom\u001b[39;49m\u001b[38;5;124;43m'\u001b[39;49m\u001b[43m,\u001b[49m\n\u001b[0;32m     12\u001b[0m \u001b[43m           \u001b[49m\u001b[43mtooltips\u001b[49m\u001b[43m \u001b[49m\u001b[38;5;241;43m=\u001b[39;49m\u001b[43m \u001b[49m\u001b[43mTOOLTIPS\u001b[49m\u001b[43m)\u001b[49m\n\u001b[0;32m     14\u001b[0m \u001b[38;5;66;03m#run simulation to get waveforms\u001b[39;00m\n\u001b[0;32m     15\u001b[0m pid\u001b[38;5;241m.\u001b[39mKi \u001b[38;5;241m=\u001b[39m optimized_parameters[\u001b[38;5;241m0\u001b[39m]\n",
      "File \u001b[1;32mD:\\Python\\abbts_blp\\venv\\lib\\site-packages\\bokeh\\plotting\\_figure.py:190\u001b[0m, in \u001b[0;36mfigure.__init__\u001b[1;34m(self, *arg, **kw)\u001b[0m\n\u001b[0;32m    188\u001b[0m \u001b[38;5;28;01mfor\u001b[39;00m name \u001b[38;5;129;01min\u001b[39;00m kw\u001b[38;5;241m.\u001b[39mkeys():\n\u001b[0;32m    189\u001b[0m     \u001b[38;5;28;01mif\u001b[39;00m name \u001b[38;5;129;01mnot\u001b[39;00m \u001b[38;5;129;01min\u001b[39;00m names:\n\u001b[1;32m--> 190\u001b[0m         \u001b[38;5;28;43mself\u001b[39;49m\u001b[38;5;241;43m.\u001b[39;49m\u001b[43m_raise_attribute_error_with_matches\u001b[49m\u001b[43m(\u001b[49m\u001b[43mname\u001b[49m\u001b[43m,\u001b[49m\u001b[43m \u001b[49m\u001b[43mnames\u001b[49m\u001b[43m \u001b[49m\u001b[38;5;241;43m|\u001b[39;49m\u001b[43m \u001b[49m\u001b[43mopts\u001b[49m\u001b[38;5;241;43m.\u001b[39;49m\u001b[43mproperties\u001b[49m\u001b[43m(\u001b[49m\u001b[43m)\u001b[49m\u001b[43m)\u001b[49m\n\u001b[0;32m    192\u001b[0m \u001b[38;5;28msuper\u001b[39m()\u001b[38;5;241m.\u001b[39m\u001b[38;5;21m__init__\u001b[39m(\u001b[38;5;241m*\u001b[39marg, \u001b[38;5;241m*\u001b[39m\u001b[38;5;241m*\u001b[39mkw)\n\u001b[0;32m    194\u001b[0m \u001b[38;5;28mself\u001b[39m\u001b[38;5;241m.\u001b[39mx_range \u001b[38;5;241m=\u001b[39m get_range(opts\u001b[38;5;241m.\u001b[39mx_range)\n",
      "File \u001b[1;32mD:\\Python\\abbts_blp\\venv\\lib\\site-packages\\bokeh\\core\\has_props.py:368\u001b[0m, in \u001b[0;36mHasProps._raise_attribute_error_with_matches\u001b[1;34m(self, name, properties)\u001b[0m\n\u001b[0;32m    365\u001b[0m \u001b[38;5;28;01mif\u001b[39;00m \u001b[38;5;129;01mnot\u001b[39;00m matches:\n\u001b[0;32m    366\u001b[0m     matches, text \u001b[38;5;241m=\u001b[39m \u001b[38;5;28msorted\u001b[39m(properties), \u001b[38;5;124m\"\u001b[39m\u001b[38;5;124mpossible\u001b[39m\u001b[38;5;124m\"\u001b[39m\n\u001b[1;32m--> 368\u001b[0m \u001b[38;5;28;01mraise\u001b[39;00m \u001b[38;5;167;01mAttributeError\u001b[39;00m(\u001b[38;5;124mf\u001b[39m\u001b[38;5;124m\"\u001b[39m\u001b[38;5;124munexpected attribute \u001b[39m\u001b[38;5;132;01m{\u001b[39;00mname\u001b[38;5;132;01m!r}\u001b[39;00m\u001b[38;5;124m to \u001b[39m\u001b[38;5;132;01m{\u001b[39;00m\u001b[38;5;28mself\u001b[39m\u001b[38;5;241m.\u001b[39m\u001b[38;5;18m__class__\u001b[39m\u001b[38;5;241m.\u001b[39m\u001b[38;5;18m__name__\u001b[39m\u001b[38;5;132;01m}\u001b[39;00m\u001b[38;5;124m, \u001b[39m\u001b[38;5;132;01m{\u001b[39;00mtext\u001b[38;5;132;01m}\u001b[39;00m\u001b[38;5;124m attributes are \u001b[39m\u001b[38;5;132;01m{\u001b[39;00mnice_join(matches)\u001b[38;5;132;01m}\u001b[39;00m\u001b[38;5;124m\"\u001b[39m)\n",
      "\u001b[1;31mAttributeError\u001b[0m: unexpected attribute 'plot_width' to figure, similar attributes are outer_width, width or min_width"
     ]
    }
   ],
   "source": [
    "# plot\n",
    "TOOLTIPS = [\n",
    "    (\"index\", \"$index\"),\n",
    "    (\"(t, val)\", \"($x, $y)\"),\n",
    "    ]\n",
    "\n",
    "# figure 1\n",
    "p1 = figure(plot_width = 800, plot_height = 300, \n",
    "           title = 'Buck Converter - Output voltage',\n",
    "           x_axis_label = 'time (s)', y_axis_label = 'Voltage (V)',\n",
    "           active_drag='box_zoom',\n",
    "           tooltips = TOOLTIPS)\n",
    "\n",
    "#run simulation to get waveforms\n",
    "pid.Ki = optimized_parameters[0]\n",
    "pid.Kp = optimized_parameters[1]\n",
    "pid.Kd = optimized_parameters[2]\n",
    "job = buck.TransientAnalysis.NewJob()\n",
    "job.Run()\n",
    "t =  np.array(job.TimePoints)\n",
    "Vout = np.array(job.GetSignalByName('R1 - Instantaneous Voltage').DataPoints)\n",
    "\n",
    "p1.line(t,Vout)\n",
    "output_notebook()\n",
    "show(p1)"
   ]
  },
  {
   "cell_type": "code",
   "execution_count": null,
   "metadata": {},
   "outputs": [],
   "source": []
  }
 ],
 "metadata": {
  "kernelspec": {
   "display_name": "Python 3 (ipykernel)",
   "language": "python",
   "name": "python3"
  },
  "language_info": {
   "codemirror_mode": {
    "name": "ipython",
    "version": 3
   },
   "file_extension": ".py",
   "mimetype": "text/x-python",
   "name": "python",
   "nbconvert_exporter": "python",
   "pygments_lexer": "ipython3",
   "version": "3.10.9"
  }
 },
 "nbformat": 4,
 "nbformat_minor": 4
}
