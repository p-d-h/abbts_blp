{
 "cells": [
  {
   "cell_type": "code",
   "execution_count": 1,
   "metadata": {
    "tags": []
   },
   "outputs": [],
   "source": [
    "import numpy as np\n",
    "import xarray as xr\n",
    "import pandas as pd\n",
    "import os\n",
    "import time as t\n",
    "from scipy import signal\n",
    "from aesim.simba import Design, ProjectRepository\n",
    "from bokeh.plotting import figure\n",
    "from bokeh.io import show, output_notebook"
   ]
  },
  {
   "cell_type": "markdown",
   "metadata": {},
   "source": [
    "# Three-phase-inverter: sweep of modulation depth $m$ depending on dc bus voltage $E$\n",
    "![Three-phase-inverter](three-phase-inverter.png)"
   ]
  },
  {
   "cell_type": "markdown",
   "metadata": {},
   "source": [
    "#### Different dc bus voltages $E$ are considered\n",
    "#### Modulation depth $m$ is recomputed to get the same line-line voltage $U$ according to the relation: $$ m = \\frac{2 U \\sqrt{2}}{E \\sqrt{3}} $$"
   ]
  },
  {
   "cell_type": "code",
   "execution_count": 2,
   "metadata": {
    "tags": []
   },
   "outputs": [],
   "source": [
    "line_line_voltage = 300\n",
    "fmod = 50\n",
    "dc_bus_voltages = [800, 700, 600]\n",
    "modulation_depths = 2 * line_line_voltage * np.sqrt(2) / dc_bus_voltages / np.sqrt(3)"
   ]
  },
  {
   "cell_type": "code",
   "execution_count": 3,
   "metadata": {
    "tags": []
   },
   "outputs": [
    {
     "name": "stdout",
     "output_type": "stream",
     "text": [
      "Elapsed time to simulate =  0.21875\n"
     ]
    }
   ],
   "source": [
    "project = ProjectRepository(os.getcwd() + R\"\\Three-phase-inverter.simba\")\n",
    "mycvs = project.GetDesignByName('three-phase-inverter')\n",
    "vdc1 = mycvs.Circuit.GetDeviceByName('DC1')\n",
    "vdc2 = mycvs.Circuit.GetDeviceByName('DC2')\n",
    "pwms = [mycvs.Circuit.GetDeviceByName('SIN'+k) for k in ['1', '2', '3']]\n",
    "\n",
    "res_time = []\n",
    "res_u12 = []\n",
    "res_iL = []\n",
    "\n",
    "tic = t.process_time()\n",
    "for dc_bus_voltage, modulation_depth in zip(dc_bus_voltages, modulation_depths):\n",
    "    vdc1.Voltage = dc_bus_voltage / 2\n",
    "    vdc2.Voltage = dc_bus_voltage / 2\n",
    "    for pwm in pwms:\n",
    "        pwm.Amplitude = modulation_depth\n",
    "        pwm.Frequency = fmod\n",
    "    job = mycvs.TransientAnalysis.NewJob()\n",
    "    status = job.Run()\n",
    "    res_time.append(job.TimePoints)\n",
    "    res_u12.append(job.GetSignalByName('U12 - Voltage').DataPoints) \n",
    "    res_iL.append(job.GetSignalByName('L1 - Current').DataPoints)\n",
    "toc = t.process_time()\n",
    "print('Elapsed time to simulate = ', toc - tic)"
   ]
  },
  {
   "cell_type": "code",
   "execution_count": 4,
   "metadata": {
    "tags": []
   },
   "outputs": [
    {
     "ename": "AttributeError",
     "evalue": "unexpected attribute 'plot_width' to figure, similar attributes are outer_width, width or min_width",
     "output_type": "error",
     "traceback": [
      "\u001b[1;31m---------------------------------------------------------------------------\u001b[0m",
      "\u001b[1;31mAttributeError\u001b[0m                            Traceback (most recent call last)",
      "Cell \u001b[1;32mIn[4], line 8\u001b[0m\n\u001b[0;32m      2\u001b[0m TOOLTIPS \u001b[38;5;241m=\u001b[39m [\n\u001b[0;32m      3\u001b[0m     (\u001b[38;5;124m\"\u001b[39m\u001b[38;5;124mindex\u001b[39m\u001b[38;5;124m\"\u001b[39m, \u001b[38;5;124m\"\u001b[39m\u001b[38;5;124m$index\u001b[39m\u001b[38;5;124m\"\u001b[39m),\n\u001b[0;32m      4\u001b[0m     (\u001b[38;5;124m\"\u001b[39m\u001b[38;5;124m(t, val)\u001b[39m\u001b[38;5;124m\"\u001b[39m, \u001b[38;5;124m\"\u001b[39m\u001b[38;5;124m($x, $y)\u001b[39m\u001b[38;5;124m\"\u001b[39m),\n\u001b[0;32m      5\u001b[0m     ]\n\u001b[0;32m      7\u001b[0m \u001b[38;5;66;03m# figure 1\u001b[39;00m\n\u001b[1;32m----> 8\u001b[0m p1 \u001b[38;5;241m=\u001b[39m \u001b[43mfigure\u001b[49m\u001b[43m(\u001b[49m\u001b[43mplot_width\u001b[49m\u001b[43m \u001b[49m\u001b[38;5;241;43m=\u001b[39;49m\u001b[43m \u001b[49m\u001b[38;5;241;43m800\u001b[39;49m\u001b[43m,\u001b[49m\u001b[43m \u001b[49m\u001b[43mplot_height\u001b[49m\u001b[43m \u001b[49m\u001b[38;5;241;43m=\u001b[39;49m\u001b[43m \u001b[49m\u001b[38;5;241;43m300\u001b[39;49m\u001b[43m,\u001b[49m\u001b[43m \u001b[49m\n\u001b[0;32m      9\u001b[0m \u001b[43m           \u001b[49m\u001b[43mtitle\u001b[49m\u001b[43m \u001b[49m\u001b[38;5;241;43m=\u001b[39;49m\u001b[43m \u001b[49m\u001b[38;5;124;43m'\u001b[39;49m\u001b[38;5;124;43mLine-line voltage\u001b[39;49m\u001b[38;5;124;43m'\u001b[39;49m\u001b[43m,\u001b[49m\n\u001b[0;32m     10\u001b[0m \u001b[43m           \u001b[49m\u001b[43mx_axis_label\u001b[49m\u001b[43m \u001b[49m\u001b[38;5;241;43m=\u001b[39;49m\u001b[43m \u001b[49m\u001b[38;5;124;43m'\u001b[39;49m\u001b[38;5;124;43mtime (s)\u001b[39;49m\u001b[38;5;124;43m'\u001b[39;49m\u001b[43m,\u001b[49m\u001b[43m \u001b[49m\u001b[43my_axis_label\u001b[49m\u001b[43m \u001b[49m\u001b[38;5;241;43m=\u001b[39;49m\u001b[43m \u001b[49m\u001b[38;5;124;43m'\u001b[39;49m\u001b[38;5;124;43mVoltage (V)\u001b[39;49m\u001b[38;5;124;43m'\u001b[39;49m\u001b[43m,\u001b[49m\n\u001b[0;32m     11\u001b[0m \u001b[43m           \u001b[49m\u001b[43mactive_drag\u001b[49m\u001b[38;5;241;43m=\u001b[39;49m\u001b[38;5;124;43m'\u001b[39;49m\u001b[38;5;124;43mbox_zoom\u001b[39;49m\u001b[38;5;124;43m'\u001b[39;49m\u001b[43m,\u001b[49m\n\u001b[0;32m     12\u001b[0m \u001b[43m           \u001b[49m\u001b[43mtooltips\u001b[49m\u001b[43m \u001b[49m\u001b[38;5;241;43m=\u001b[39;49m\u001b[43m \u001b[49m\u001b[43mTOOLTIPS\u001b[49m\u001b[43m)\u001b[49m\n\u001b[0;32m     13\u001b[0m \u001b[38;5;66;03m# figure 2\u001b[39;00m\n\u001b[0;32m     14\u001b[0m p2 \u001b[38;5;241m=\u001b[39m figure(plot_width \u001b[38;5;241m=\u001b[39m \u001b[38;5;241m800\u001b[39m, plot_height \u001b[38;5;241m=\u001b[39m \u001b[38;5;241m300\u001b[39m, \n\u001b[0;32m     15\u001b[0m            title \u001b[38;5;241m=\u001b[39m \u001b[38;5;124m'\u001b[39m\u001b[38;5;124mLine current\u001b[39m\u001b[38;5;124m'\u001b[39m,\n\u001b[0;32m     16\u001b[0m            x_axis_label \u001b[38;5;241m=\u001b[39m \u001b[38;5;124m'\u001b[39m\u001b[38;5;124mtime (s)\u001b[39m\u001b[38;5;124m'\u001b[39m, y_axis_label \u001b[38;5;241m=\u001b[39m \u001b[38;5;124m'\u001b[39m\u001b[38;5;124mCurrent (A)\u001b[39m\u001b[38;5;124m'\u001b[39m,\n\u001b[0;32m     17\u001b[0m            active_drag\u001b[38;5;241m=\u001b[39m\u001b[38;5;124m'\u001b[39m\u001b[38;5;124mbox_zoom\u001b[39m\u001b[38;5;124m'\u001b[39m,\n\u001b[0;32m     18\u001b[0m            tooltips \u001b[38;5;241m=\u001b[39m TOOLTIPS)\n",
      "File \u001b[1;32mD:\\Python\\abbts_blp\\venv\\lib\\site-packages\\bokeh\\plotting\\_figure.py:190\u001b[0m, in \u001b[0;36mfigure.__init__\u001b[1;34m(self, *arg, **kw)\u001b[0m\n\u001b[0;32m    188\u001b[0m \u001b[38;5;28;01mfor\u001b[39;00m name \u001b[38;5;129;01min\u001b[39;00m kw\u001b[38;5;241m.\u001b[39mkeys():\n\u001b[0;32m    189\u001b[0m     \u001b[38;5;28;01mif\u001b[39;00m name \u001b[38;5;129;01mnot\u001b[39;00m \u001b[38;5;129;01min\u001b[39;00m names:\n\u001b[1;32m--> 190\u001b[0m         \u001b[38;5;28;43mself\u001b[39;49m\u001b[38;5;241;43m.\u001b[39;49m\u001b[43m_raise_attribute_error_with_matches\u001b[49m\u001b[43m(\u001b[49m\u001b[43mname\u001b[49m\u001b[43m,\u001b[49m\u001b[43m \u001b[49m\u001b[43mnames\u001b[49m\u001b[43m \u001b[49m\u001b[38;5;241;43m|\u001b[39;49m\u001b[43m \u001b[49m\u001b[43mopts\u001b[49m\u001b[38;5;241;43m.\u001b[39;49m\u001b[43mproperties\u001b[49m\u001b[43m(\u001b[49m\u001b[43m)\u001b[49m\u001b[43m)\u001b[49m\n\u001b[0;32m    192\u001b[0m \u001b[38;5;28msuper\u001b[39m()\u001b[38;5;241m.\u001b[39m\u001b[38;5;21m__init__\u001b[39m(\u001b[38;5;241m*\u001b[39marg, \u001b[38;5;241m*\u001b[39m\u001b[38;5;241m*\u001b[39mkw)\n\u001b[0;32m    194\u001b[0m \u001b[38;5;28mself\u001b[39m\u001b[38;5;241m.\u001b[39mx_range \u001b[38;5;241m=\u001b[39m get_range(opts\u001b[38;5;241m.\u001b[39mx_range)\n",
      "File \u001b[1;32mD:\\Python\\abbts_blp\\venv\\lib\\site-packages\\bokeh\\core\\has_props.py:368\u001b[0m, in \u001b[0;36mHasProps._raise_attribute_error_with_matches\u001b[1;34m(self, name, properties)\u001b[0m\n\u001b[0;32m    365\u001b[0m \u001b[38;5;28;01mif\u001b[39;00m \u001b[38;5;129;01mnot\u001b[39;00m matches:\n\u001b[0;32m    366\u001b[0m     matches, text \u001b[38;5;241m=\u001b[39m \u001b[38;5;28msorted\u001b[39m(properties), \u001b[38;5;124m\"\u001b[39m\u001b[38;5;124mpossible\u001b[39m\u001b[38;5;124m\"\u001b[39m\n\u001b[1;32m--> 368\u001b[0m \u001b[38;5;28;01mraise\u001b[39;00m \u001b[38;5;167;01mAttributeError\u001b[39;00m(\u001b[38;5;124mf\u001b[39m\u001b[38;5;124m\"\u001b[39m\u001b[38;5;124munexpected attribute \u001b[39m\u001b[38;5;132;01m{\u001b[39;00mname\u001b[38;5;132;01m!r}\u001b[39;00m\u001b[38;5;124m to \u001b[39m\u001b[38;5;132;01m{\u001b[39;00m\u001b[38;5;28mself\u001b[39m\u001b[38;5;241m.\u001b[39m\u001b[38;5;18m__class__\u001b[39m\u001b[38;5;241m.\u001b[39m\u001b[38;5;18m__name__\u001b[39m\u001b[38;5;132;01m}\u001b[39;00m\u001b[38;5;124m, \u001b[39m\u001b[38;5;132;01m{\u001b[39;00mtext\u001b[38;5;132;01m}\u001b[39;00m\u001b[38;5;124m attributes are \u001b[39m\u001b[38;5;132;01m{\u001b[39;00mnice_join(matches)\u001b[38;5;132;01m}\u001b[39;00m\u001b[38;5;124m\"\u001b[39m)\n",
      "\u001b[1;31mAttributeError\u001b[0m: unexpected attribute 'plot_width' to figure, similar attributes are outer_width, width or min_width"
     ]
    }
   ],
   "source": [
    "# plot\n",
    "TOOLTIPS = [\n",
    "    (\"index\", \"$index\"),\n",
    "    (\"(t, val)\", \"($x, $y)\"),\n",
    "    ]\n",
    "\n",
    "# figure 1\n",
    "p1 = figure(plot_width = 800, plot_height = 300, \n",
    "           title = 'Line-line voltage',\n",
    "           x_axis_label = 'time (s)', y_axis_label = 'Voltage (V)',\n",
    "           active_drag='box_zoom',\n",
    "           tooltips = TOOLTIPS)\n",
    "# figure 2\n",
    "p2 = figure(plot_width = 800, plot_height = 300, \n",
    "           title = 'Line current',\n",
    "           x_axis_label = 'time (s)', y_axis_label = 'Current (A)',\n",
    "           active_drag='box_zoom',\n",
    "           tooltips = TOOLTIPS)\n",
    "\n",
    "green_color = 50\n",
    "for time, u12, iL in zip(res_time, res_u12, res_iL):\n",
    "    p1.line(time, u12, color=(0, green_color, 0))\n",
    "    p2.line(time, iL, color=(0, green_color, 0))\n",
    "    green_color += 100\n",
    "\n",
    "output_notebook()\n",
    "show(p1)\n",
    "show(p2)"
   ]
  },
  {
   "cell_type": "code",
   "execution_count": null,
   "metadata": {
    "tags": []
   },
   "outputs": [],
   "source": [
    "# Prepare figure\n",
    "TOOLTIPS = [\n",
    "    (\"index\", \"$index\"),\n",
    "    (\"(freq, val)\", \"($x, $y)\"),\n",
    "    ]\n",
    "p1 = figure(plot_width = 800, plot_height = 300, \n",
    "           title = 'Frequency Spectrum',\n",
    "           x_axis_label = 'frequency (kHz)', y_axis_label = 'Voltage (V)',\n",
    "           active_drag='box_zoom',\n",
    "           tooltips = TOOLTIPS)\n",
    "green_color = 50\n",
    "width = 0.02\n",
    "\n",
    "# Prepare resampling\n",
    "N = 10000\n",
    "time_resamp = np.linspace(0, 2 / fmod, 2 * N, endpoint=False)\n",
    "\n",
    "for time, u12 in zip(res_time, res_u12):\n",
    "    # resampling for fft\n",
    "    u12_resamp = np.interp(time_resamp, time, u12)\n",
    "    fstep = 50    # consider only N points of the 2N point resampled vector\n",
    "    time_resamp_window = time_resamp[N:]\n",
    "    u12_resamp_window = u12_resamp[N:]\n",
    "    \n",
    "    # do fft\n",
    "    freq = np.fft.fftfreq(N) * fstep * N\n",
    "    positivefreq = freq[freq >= 0]\n",
    "    freqval = np.abs(np.fft.fft(u12_resamp_window)) / N\n",
    "    freqval[1:] = freqval[1:] * 2\n",
    "    freqval = freqval[freq >= 0]\n",
    "\n",
    "    # Get only 300 harmonics\n",
    "    max_index = 300\n",
    "    positivefreq = positivefreq[:300]\n",
    "    freqval = freqval[:300]\n",
    "    p1.vbar(x=(positivefreq/1e3), width=width, bottom=0, top=freqval, color=(0, green_color, 0))\n",
    "    green_color += 100\n",
    "    width *= 0.5\n",
    "\n",
    "show(p1)"
   ]
  },
  {
   "cell_type": "code",
   "execution_count": null,
   "metadata": {},
   "outputs": [],
   "source": []
  }
 ],
 "metadata": {
  "interpreter": {
   "hash": "c160396e9ffa4f1ebc7d92bbc72645b79e9f9123640b5b13546b50189ede4836"
  },
  "kernelspec": {
   "display_name": "Python 3 (ipykernel)",
   "language": "python",
   "name": "python3"
  },
  "language_info": {
   "codemirror_mode": {
    "name": "ipython",
    "version": 3
   },
   "file_extension": ".py",
   "mimetype": "text/x-python",
   "name": "python",
   "nbconvert_exporter": "python",
   "pygments_lexer": "ipython3",
   "version": "3.10.9"
  }
 },
 "nbformat": 4,
 "nbformat_minor": 4
}
