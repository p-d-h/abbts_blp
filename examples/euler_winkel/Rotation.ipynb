{
 "cells": [
  {
   "cell_type": "markdown",
   "id": "c9814204-fc95-4d7f-9065-074b780ed136",
   "metadata": {},
   "source": [
    "# Lineare Algebra\n",
    "\n",
    "https://numpy.org/doc/stable/reference/generated/numpy.matmul.html\n"
   ]
  },
  {
   "cell_type": "code",
   "execution_count": 1,
   "id": "e2fce7e4-9035-4403-9fca-e13c850b6a51",
   "metadata": {},
   "outputs": [],
   "source": [
    "import numpy as np"
   ]
  },
  {
   "cell_type": "code",
   "execution_count": 2,
   "id": "037bdaa4-6518-43e7-9ff0-1c4179718b82",
   "metadata": {},
   "outputs": [],
   "source": [
    "phi_x = 0.0 * np.pi / 180.0\n",
    "phi_y = 0.0 * np.pi / 180.0\n",
    "phi_z = 68.0 * np.pi / 180.0\n",
    "A = np.array([3.0, -1.0, 4.0])\n",
    "B = np.array([3.0, 4.0, 2.0])"
   ]
  },
  {
   "cell_type": "code",
   "execution_count": 3,
   "id": "cd9bf858-22b5-4e52-b153-c81eef28209e",
   "metadata": {},
   "outputs": [
    {
     "name": "stdout",
     "output_type": "stream",
     "text": [
      "[[ 1.  0.  0.]\n",
      " [ 0.  1.  0.]\n",
      " [ 0. -0.  1.]]\n",
      "[[ 1.  0. -0.]\n",
      " [ 0.  1.  0.]\n",
      " [ 0.  0.  1.]]\n",
      "[[ 0.37460659  0.92718385  0.        ]\n",
      " [-0.92718385  0.37460659  0.        ]\n",
      " [ 0.          0.          1.        ]]\n"
     ]
    }
   ],
   "source": [
    "rotation_x = np.array([[1.0, 0.0, 0.0],\n",
    "                       [0.0, np.cos(phi_x), np.sin(phi_x)],\n",
    "                       [0.0, -np.sin(phi_x), np.cos(phi_x)]])\n",
    "\n",
    "rotation_y = np.array([[np.cos(phi_y), 0.0, -np.sin(phi_y)],\n",
    "                       [0.0, 1.0, 0.0],\n",
    "                       [np.sin(phi_y), 0.0, np.cos(phi_y)]])\n",
    "\n",
    "rotation_z = np.array([[np.cos(phi_z), np.sin(phi_z), 0.0], \n",
    "                      [-np.sin(phi_z), np.cos(phi_z), 0.0],\n",
    "                      [0.0, 0.0, 1.0]])\n",
    "print(rotation_x)\n",
    "print(rotation_y)\n",
    "print(rotation_z)"
   ]
  },
  {
   "cell_type": "code",
   "execution_count": null,
   "id": "3898d922-5cfc-432c-88aa-2e27d574b79b",
   "metadata": {},
   "outputs": [],
   "source": []
  },
  {
   "cell_type": "code",
   "execution_count": 4,
   "id": "7d1cd945-af4a-4d75-8e10-96c1bf78c495",
   "metadata": {},
   "outputs": [
    {
     "name": "stdout",
     "output_type": "stream",
     "text": [
      "[[ 0.37460659  0.92718385  0.        ]\n",
      " [-0.92718385  0.37460659  0.        ]\n",
      " [ 0.          0.          1.        ]]\n"
     ]
    }
   ],
   "source": [
    "rotation = np.matmul(np.matmul(rotation_x, rotation_y), rotation_z)\n",
    "print(rotation)"
   ]
  },
  {
   "cell_type": "markdown",
   "id": "b68664e1-015e-4e18-b67f-3190c4c5dcb1",
   "metadata": {},
   "source": [
    "## Rotationsmatrix um die Achse z"
   ]
  },
  {
   "cell_type": "code",
   "execution_count": 5,
   "id": "e9e7c598-24db-4ae0-ada0-f99cfaa9a94a",
   "metadata": {},
   "outputs": [
    {
     "name": "stdout",
     "output_type": "stream",
     "text": [
      "[-1.63591927  0.87303297  2.        ]\n"
     ]
    }
   ],
   "source": [
    "# Rotation des Punktes B um  den Punkt A mit demn Winkel phi\n",
    "# Rotation um die z-Achse\n",
    "Bs = np.matmul(np.transpose(B - A), rotation_z) + A\n",
    "print(Bs)"
   ]
  },
  {
   "cell_type": "code",
   "execution_count": 6,
   "id": "65996e1e-69cb-40be-8893-837d34755d01",
   "metadata": {},
   "outputs": [
    {
     "name": "stdout",
     "output_type": "stream",
     "text": [
      "[-1.63591927  0.87303297  2.        ]\n"
     ]
    }
   ],
   "source": [
    "# Rotationsvektor in den drei Achsen\n",
    "Bs = np.matmul(np.transpose(B - A), rotation) + A\n",
    "print(Bs)"
   ]
  },
  {
   "cell_type": "code",
   "execution_count": 7,
   "id": "49c67119-7871-479d-8ed6-6549f99f4cc3",
   "metadata": {},
   "outputs": [
    {
     "data": {
      "text/plain": [
       "5.385164807134504"
      ]
     },
     "execution_count": 7,
     "metadata": {},
     "output_type": "execute_result"
    }
   ],
   "source": [
    "# Bestimmung der Vektorlänge\n",
    "np.linalg.norm(B - A)"
   ]
  },
  {
   "cell_type": "code",
   "execution_count": null,
   "id": "5bb289d5-7d13-41ba-855c-d358bfad6590",
   "metadata": {},
   "outputs": [],
   "source": []
  }
 ],
 "metadata": {
  "kernelspec": {
   "display_name": "Python 3 (ipykernel)",
   "language": "python",
   "name": "python3"
  },
  "language_info": {
   "codemirror_mode": {
    "name": "ipython",
    "version": 3
   },
   "file_extension": ".py",
   "mimetype": "text/x-python",
   "name": "python",
   "nbconvert_exporter": "python",
   "pygments_lexer": "ipython3",
   "version": "3.11.4"
  }
 },
 "nbformat": 4,
 "nbformat_minor": 5
}
