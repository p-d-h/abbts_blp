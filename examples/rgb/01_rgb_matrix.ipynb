{
 "cells": [
  {
   "cell_type": "markdown",
   "id": "c55476c0-344e-4e1b-8498-c59c550669fc",
   "metadata": {},
   "source": [
    "# BLP RGB Matrix\n",
    "Installation der Kommunikationstreiber\n",
    "1. Installation des Pythonmoduls https://pypi.org/project/abbts-blp/\n",
    "2. pip install --upgrade abbts-blp"
   ]
  },
  {
   "cell_type": "code",
   "execution_count": 11,
   "id": "1fcbc61e-fed7-422f-a8e2-acc6a1ded49b",
   "metadata": {},
   "outputs": [],
   "source": [
    "# Installation des Pythonmoduls für die Kommunikation zum ADALP2000\n",
    "# import sys\n",
    "# !{sys.executable} -m pip install --upgrade abbts-blp"
   ]
  },
  {
   "cell_type": "code",
   "execution_count": 12,
   "id": "2b00af96-1eb7-4850-ace8-d5f3d7e8f1e1",
   "metadata": {},
   "outputs": [
    {
     "name": "stdout",
     "output_type": "stream",
     "text": [
      "The autoreload extension is already loaded. To reload it, use:\n",
      "  %reload_ext autoreload\n"
     ]
    }
   ],
   "source": [
    "%load_ext autoreload\n",
    "%autoreload 2"
   ]
  },
  {
   "cell_type": "code",
   "execution_count": 19,
   "id": "acddb165-365d-4002-9bea-e2ac605c2f28",
   "metadata": {},
   "outputs": [],
   "source": [
    "import time\n",
    "import serial\n",
    "from abbts_blp.rgb import RgbFpga"
   ]
  },
  {
   "cell_type": "code",
   "execution_count": 24,
   "id": "aa975d9f-043a-458d-b584-a6c858261a2f",
   "metadata": {},
   "outputs": [
    {
     "data": {
      "text/plain": [
       "['COM7']"
      ]
     },
     "execution_count": 24,
     "metadata": {},
     "output_type": "execute_result"
    }
   ],
   "source": [
    "# Auflistung der verfügbaren COM-Ports\n",
    "ports = [f'COM{i}' for i in range(1, 257, 1)]\n",
    "result = []\n",
    "for port in ports:\n",
    "    try:\n",
    "        s = serial.Serial(port)\n",
    "        s.close()\n",
    "        result.append(port)\n",
    "    except (OSError, serial.SerialException):\n",
    "        pass\n",
    "result"
   ]
  },
  {
   "cell_type": "code",
   "execution_count": 25,
   "id": "2b49a153-0e80-424a-9b16-82701900d909",
   "metadata": {},
   "outputs": [],
   "source": [
    "# Zuweisung COM-Port\n",
    "com = 'COM7'"
   ]
  },
  {
   "cell_type": "code",
   "execution_count": 26,
   "id": "142d105d-c51b-44b2-998d-eea712896e9b",
   "metadata": {},
   "outputs": [],
   "source": [
    "# Farbdefinition\n",
    "red = [1, 0, 0]\n",
    "green = [0, 1, 0]\n",
    "blue = [0, 0, 1]\n",
    "white = [1, 1, 1]\n",
    "colors = [red, green, blue, white]"
   ]
  },
  {
   "cell_type": "code",
   "execution_count": 28,
   "id": "d8473693-6682-4524-9128-a8515eb1e1c8",
   "metadata": {},
   "outputs": [],
   "source": [
    "# Musterausgabe\n",
    "rgb = RgbFpga(port=com)\n",
    "rgb.open()\n",
    "\n",
    "for i in range(0, 4, 1):\n",
    "    for row in range(0, 8, 1):\n",
    "        color = colors[row % 4]\n",
    "        for col in range(0, 8, 1):\n",
    "            rgb.rgb_matrix[row][col] = color\n",
    "    rgb.write()\n",
    "    time.sleep(0.5)\n",
    "    for col in range(0, 8, 1):\n",
    "        color = colors[col % 4]\n",
    "        for row in range(0, 8, 1):\n",
    "            rgb.rgb_matrix[row][col] = color\n",
    "    rgb.write()\n",
    "    time.sleep(0.5)\n",
    "\n",
    "rgb.close()"
   ]
  },
  {
   "cell_type": "code",
   "execution_count": 8,
   "id": "a4a2e4cd-0c60-4b22-9215-274a69cd4373",
   "metadata": {},
   "outputs": [],
   "source": [
    "# END"
   ]
  }
 ],
 "metadata": {
  "kernelspec": {
   "display_name": "Python 3 (ipykernel)",
   "language": "python",
   "name": "python3"
  },
  "language_info": {
   "codemirror_mode": {
    "name": "ipython",
    "version": 3
   },
   "file_extension": ".py",
   "mimetype": "text/x-python",
   "name": "python",
   "nbconvert_exporter": "python",
   "pygments_lexer": "ipython3",
   "version": "3.10.9"
  }
 },
 "nbformat": 4,
 "nbformat_minor": 5
}
