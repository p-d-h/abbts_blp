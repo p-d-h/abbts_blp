{
 "cells": [
  {
   "cell_type": "markdown",
   "id": "c55476c0-344e-4e1b-8498-c59c550669fc",
   "metadata": {},
   "source": [
    "# Analog Discovery: Analog IN OUT\n",
    "- https://digilent.com/shop/analog-discovery-2-100ms-s-usb-oscilloscope-logic-analyzer-and-variable-power-supply/\n",
    "- https://digilent.com/shop/software/digilent-waveforms/\n",
    "\n",
    "Divers\n",
    "- https://www.embedded.com/using-python-to-simplify-noise-analysis-of-mixed-mode-signal-chains/\n",
    "\n",
    "Installation der Kommunikationstreiber\n",
    "1. digilent.waveforms_v3.xy_64bit.exe => https://digilent.com/shop/software/digilent-waveforms/\n",
    "2. Kopieren der dwf.lib aus dem Installationsordner C:\\Program Files (x86)\\Digilent\\WaveFormsSDK\\lib\\x64 in das Projektverzeichnis"
   ]
  },
  {
   "cell_type": "code",
   "execution_count": 4,
   "id": "2b00af96-1eb7-4850-ace8-d5f3d7e8f1e1",
   "metadata": {},
   "outputs": [
    {
     "name": "stdout",
     "output_type": "stream",
     "text": [
      "The autoreload extension is already loaded. To reload it, use:\n",
      "  %reload_ext autoreload\n"
     ]
    }
   ],
   "source": [
    "%load_ext autoreload\n",
    "%autoreload 2"
   ]
  },
  {
   "cell_type": "code",
   "execution_count": 3,
   "id": "acddb165-365d-4002-9bea-e2ac605c2f28",
   "metadata": {},
   "outputs": [],
   "source": [
    "import libm2k\n",
    "import time\n",
    "import numpy as np\n",
    "import pandas as pd\n",
    "import matplotlib.pyplot as plt\n",
    "from matplotlib.ticker import EngFormatter\n",
    "import seaborn as sns\n",
    "plt.style.use('dark_background')  # default https://matplotlib.org/stable/gallery/style_sheets/style_sheets_reference.html\n",
    "plt.rcParams['figure.figsize'] = (8, 2)\n",
    "plt.rcParams['figure.dpi'] = 300\n",
    "plt.rcParams['font.size'] = 8\n",
    "# plt.rcParams['font'] = {'size': 8}\n",
    "# sns.set(rc={'figure.figsize':(5,5)})\n",
    "# sns.color_palette('dark')  # https://seaborn.pydata.org/tutorial/color_palettes.html\n",
    "# %matplotlib inline\n",
    "# plt.rcParams.keys()"
   ]
  },
  {
   "cell_type": "markdown",
   "id": "6000bb69-3eae-4d3a-970d-c26958f88120",
   "metadata": {},
   "source": [
    "## Verdrahtung Messmittel\n",
    "<img src=\"img/signaltest.jpg\" width=\"300px\" align=\"left\"/>"
   ]
  },
  {
   "cell_type": "code",
   "execution_count": null,
   "id": "142d105d-c51b-44b2-998d-eea712896e9b",
   "metadata": {},
   "outputs": [],
   "source": [
    "# öffne die Schnittstelle zum ADALP2000\n",
    "try:\n",
    "    if ctx is not None:\n",
    "        ctx = libm2k.m2kOpen()\n",
    "        if ctx is None:\n",
    "            print('Verbindungsfehler zum ADALM2000')\n",
    "except:\n",
    "    ctx = libm2k.m2kOpen()\n",
    "    if ctx is None:\n",
    "        print('Verbindungsfehler zum ADALM2000')"
   ]
  },
  {
   "cell_type": "markdown",
   "id": "36532609-7fb7-4468-b7b0-6448b6aa047d",
   "metadata": {},
   "source": [
    "---\n",
    "## DAC Analogausgang"
   ]
  },
  {
   "cell_type": "code",
   "execution_count": null,
   "id": "cc73a34a-2a13-4e6e-87ab-8444621b9da1",
   "metadata": {},
   "outputs": [],
   "source": [
    "# kontinuirliche Ausgabe eines Signales bis die Schnittstelle wieder geschlossen wird\n",
    "if ctx is not None:\n",
    "    aout = ctx.getAnalogOut()\n",
    "    aout.reset()\n",
    "    ctx.calibrateDAC()\n",
    "    aout.enableChannel(0, True)\n",
    "    aout.enableChannel(1, True)\n",
    "    # Systemvoraussetzung\n",
    "    # https://analogdevicesinc.github.io/libm2k/group__analogout.html\n",
    "    print(f'Verfügbare Samplerates: {aout.getAvailableSampleRates(0)}')\n",
    "    \n",
    "    f = 1.0 * 10**3\n",
    "    T = 1 / f\n",
    "    sample_rate = aout.getAvailableSampleRates(0)[5]\n",
    "    buffer_size = int(sample_rate / f) \n",
    "    t = np.linspace(0.0, T, buffer_size)\n",
    "    print(f'{f = :1.0f}Hz | {T = }s | {buffer_size = } | {sample_rate = :1.0f}sps')    \n",
    "    aout.setSampleRate(0, sample_rate)\n",
    "    aout.setSampleRate(1, sample_rate * 1.0)\n",
    "    amplitude = 3\n",
    "    signal_out_1 = np.sin(np.linspace(0, 2 * np.pi, buffer_size)) * amplitude\n",
    "    signal_out_2 = (np.heaviside(np.sin(np.linspace(0, 2 * np.pi, buffer_size)), np.zeros(buffer_size)) - 0.5) * 2 * amplitude\n",
    "    signal_out = [signal_out_1, signal_out_2]\n",
    "    aout.setCyclic(True)  # kontinuirliche Signalausgabe\n",
    "    aout.push(signal_out)\n",
    "    \n",
    "    fig, ax = plt.subplots(1, 1, figsize=(8, 2.5))\n",
    "    ax.plot(t, signal_out_1, lw=1, ls='-', marker='o', markersize=0, color='r', alpha=1.0, label='CH1')\n",
    "    ax.plot(t, signal_out_2, lw=1, ls='-', marker='o', markersize=0, color='g', alpha=1.0, label='CH2')\n",
    "    ax.xaxis.set_major_formatter(EngFormatter(places=1, sep=\"\\N{THIN SPACE}\"))\n",
    "    ax.set_ylim([-5.0, 5.0])\n",
    "    ax.set_yticks(np.linspace(-5, 5, 11))\n",
    "    ax.set_yticks(np.linspace(-5, 5, 21), minor=True)\n",
    "    ax.grid(which='major', color='w', alpha=0.35, ls='-', lw=0.5)  # both major minor\n",
    "    ax.grid(which='minor', color='w', alpha=0.25, ls='-', lw=0.5)\n",
    "    ax.set_title('DAC Analogausgang', fontweight='bold')\n",
    "    ax.set_xlabel('Zeit')\n",
    "    ax.set_ylabel('Amplitude')\n",
    "    ax.legend(loc='best')  # best, upper left, upper center, upper right, center .., lower ..\n",
    "    fig.tight_layout()"
   ]
  },
  {
   "cell_type": "markdown",
   "id": "e4b83e40-ebec-463e-a66c-875c89cd6436",
   "metadata": {},
   "source": [
    "---\n",
    "## ADC Analogeingang"
   ]
  },
  {
   "cell_type": "code",
   "execution_count": null,
   "id": "d9a9d8b5-9299-4568-845f-22031553914a",
   "metadata": {},
   "outputs": [],
   "source": [
    "# kontinuirliche Ausgabe eines Signales bis die Schnittstelle wieder geschlossen wird\n",
    "if ctx is not None:\n",
    "    ain = ctx.getAnalogIn()\n",
    "    ain.reset()\n",
    "    ain.setRange(0, -5.0, 5.0)\n",
    "    ctx.calibrateADC()\n",
    "    ain.enableChannel(0, True)\n",
    "    ain.enableChannel(1, True)\n",
    "    # Systemvoraussetzung\n",
    "    # https://analogdevicesinc.github.io/libm2k/group__analogin.html\n",
    "    print(f'Verfügbare Samplerates: {ain.getAvailableSampleRates()}')\n",
    "    \n",
    "    # https://analogdevicesinc.github.io/libm2k/group__m2ktrigger.html\n",
    "    trig = ain.getTrigger()\n",
    "    trig.setAnalogSource(0) # Channel 0 as source\n",
    "    trig.setAnalogCondition(0,libm2k.RISING_EDGE_ANALOG)\n",
    "    trig.setAnalogLevel(0,0.5)  # Set trigger level at 0.5\n",
    "    trig.setAnalogDelay(0) # Trigger is centered\n",
    "    trig.setAnalogMode(1, libm2k.ANALOG)\n",
    "    \n",
    "    sample_rate = ain.getAvailableSampleRates()[5]\n",
    "    T = 2 * 10**-3\n",
    "    samples = int(sample_rate * T)\n",
    "    t = np.linspace(0.0, T, samples)\n",
    "    print(f'{T = }s | {samples = } | {sample_rate = :1.0f}sps')    \n",
    "    \n",
    "    ain.setSampleRate(sample_rate)\n",
    "    [signal_in_1, signal_in_2] = ain.getSamples(samples)\n",
    "    \n",
    "    fig, ax = plt.subplots(1, 1, figsize=(8, 2.5))\n",
    "    ax.plot(t, signal_in_1, lw=1, ls='-', marker='o', markersize=0, color='r', alpha=1.0, label='CH1')\n",
    "    ax.plot(t, signal_in_2, lw=1, ls='-', marker='o', markersize=0, color='g', alpha=1.0, label='CH2')\n",
    "    ax.xaxis.set_major_formatter(EngFormatter(places=1, sep=\"\\N{THIN SPACE}\"))\n",
    "    ax.set_ylim([-5.0, 5.0])\n",
    "    ax.set_yticks(np.linspace(-5, 5, 11))\n",
    "    ax.set_yticks(np.linspace(-5, 5, 21), minor=True)\n",
    "    ax.grid(which='major', color='w', alpha=0.35, ls='-', lw=0.5)  # both major minor\n",
    "    ax.grid(which='minor', color='w', alpha=0.25, ls='-', lw=0.5)\n",
    "    ax.set_title('ADC Analogeingang', fontweight='bold')\n",
    "    ax.set_xlabel('Zeit')\n",
    "    ax.set_ylabel('Amplitude')\n",
    "    ax.legend(loc='best')  # best, upper left, upper center, upper right, center .., lower ..\n",
    "    fig.tight_layout()"
   ]
  },
  {
   "cell_type": "markdown",
   "id": "c7909b3d-81b5-4f92-a085-9e00b44de97b",
   "metadata": {},
   "source": [
    "---"
   ]
  },
  {
   "cell_type": "code",
   "execution_count": null,
   "id": "815244cd-6544-4d65-86da-43d5a322a766",
   "metadata": {},
   "outputs": [],
   "source": [
    "# schliesse den Kommunikationskanal zum ADALM2000\n",
    "libm2k.contextClose(ctx)\n",
    "del ctx"
   ]
  },
  {
   "cell_type": "code",
   "execution_count": null,
   "id": "a4a2e4cd-0c60-4b22-9215-274a69cd4373",
   "metadata": {},
   "outputs": [],
   "source": [
    "# END"
   ]
  }
 ],
 "metadata": {
  "kernelspec": {
   "display_name": "Python 3 (ipykernel)",
   "language": "python",
   "name": "python3"
  },
  "language_info": {
   "codemirror_mode": {
    "name": "ipython",
    "version": 3
   },
   "file_extension": ".py",
   "mimetype": "text/x-python",
   "name": "python",
   "nbconvert_exporter": "python",
   "pygments_lexer": "ipython3",
   "version": "3.10.9"
  }
 },
 "nbformat": 4,
 "nbformat_minor": 5
}
